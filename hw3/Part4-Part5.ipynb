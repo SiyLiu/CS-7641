{
 "cells": [
  {
   "cell_type": "code",
   "execution_count": 12,
   "id": "5cd4d62d",
   "metadata": {},
   "outputs": [],
   "source": [
    "import pandas as pd\n",
    "import numpy as np\n",
    "import matplotlib.pyplot as plt\n",
    "import seaborn as sns\n",
    "import os\n",
    "import os.path"
   ]
  },
  {
   "cell_type": "code",
   "execution_count": 2,
   "id": "99f86eca",
   "metadata": {},
   "outputs": [],
   "source": [
    "from sklearn import model_selection\n",
    "from sklearn.model_selection import cross_validate, cross_val_score\n",
    "from sklearn.metrics import make_scorer, accuracy_score, precision_score, recall_score, f1_score\n",
    "from sklearn.model_selection import learning_curve, train_test_split,GridSearchCV\n",
    "from sklearn.preprocessing import StandardScaler\n",
    "from sklearn.pipeline import make_pipeline, Pipeline\n",
    "from sklearn.metrics import accuracy_score, mean_absolute_error, classification_report, confusion_matrix, f1_score, roc_curve, roc_auc_score\n",
    "from sklearn.neural_network import MLPClassifier"
   ]
  },
  {
   "cell_type": "markdown",
   "id": "fe9b9acb",
   "metadata": {},
   "source": [
    "## 1. Import Data"
   ]
  },
  {
   "cell_type": "code",
   "execution_count": 3,
   "id": "01acef10",
   "metadata": {},
   "outputs": [
    {
     "data": {
      "text/plain": [
       "['X1_ICA_clusters.csv',\n",
       " 'X1_PCA_clusters.csv',\n",
       " 'X1_RCA_clusters.csv',\n",
       " 'X1_RFC_clusters.csv',\n",
       " 'y1_train.csv']"
      ]
     },
     "execution_count": 3,
     "metadata": {},
     "output_type": "execute_result"
    }
   ],
   "source": [
    "os.listdir('./datasets')"
   ]
  },
  {
   "cell_type": "code",
   "execution_count": 4,
   "id": "74991a88",
   "metadata": {},
   "outputs": [],
   "source": [
    "data = {}\n",
    "data_lst = ['PCA', 'ICA', 'RCA', 'RFC']\n",
    "role = ['X_train', 'Y_train']\n",
    "Y_train = pd.read_csv('./datasets/y1_train.csv')\n",
    "for i in os.listdir('./datasets'):\n",
    "    if i.split('_')[0] == 'X1':\n",
    "        data[i.split('_')[1]] = {}\n",
    "        \n",
    "        data[i.split('_')[1]]['X_train'] = pd.read_csv(f'./datasets/{i}')\n",
    "        data[i.split('_')[1]]['Y_train'] = Y_train\n"
   ]
  },
  {
   "cell_type": "code",
   "execution_count": 32,
   "id": "ee46262b",
   "metadata": {},
   "outputs": [
    {
     "data": {
      "text/plain": [
       "['var1', 'var2', 'var3', 'var4', 'var5', 'var6', 'var7']"
      ]
     },
     "execution_count": 32,
     "metadata": {},
     "output_type": "execute_result"
    }
   ],
   "source": [
    "list(data['PCA']['X_train'].columns)[:-2]"
   ]
  },
  {
   "cell_type": "code",
   "execution_count": 43,
   "id": "4b4bc9a5",
   "metadata": {},
   "outputs": [
    {
     "data": {
      "text/html": [
       "<div>\n",
       "<style scoped>\n",
       "    .dataframe tbody tr th:only-of-type {\n",
       "        vertical-align: middle;\n",
       "    }\n",
       "\n",
       "    .dataframe tbody tr th {\n",
       "        vertical-align: top;\n",
       "    }\n",
       "\n",
       "    .dataframe thead th {\n",
       "        text-align: right;\n",
       "    }\n",
       "</style>\n",
       "<table border=\"1\" class=\"dataframe\">\n",
       "  <thead>\n",
       "    <tr style=\"text-align: right;\">\n",
       "      <th></th>\n",
       "      <th>var1</th>\n",
       "      <th>var2</th>\n",
       "      <th>var3</th>\n",
       "      <th>var4</th>\n",
       "      <th>var5</th>\n",
       "      <th>var6</th>\n",
       "    </tr>\n",
       "  </thead>\n",
       "  <tbody>\n",
       "    <tr>\n",
       "      <th>0</th>\n",
       "      <td>0.016796</td>\n",
       "      <td>-0.017599</td>\n",
       "      <td>0.005208</td>\n",
       "      <td>0.013573</td>\n",
       "      <td>0.016217</td>\n",
       "      <td>0.018752</td>\n",
       "    </tr>\n",
       "    <tr>\n",
       "      <th>1</th>\n",
       "      <td>-0.006609</td>\n",
       "      <td>-0.007507</td>\n",
       "      <td>0.032813</td>\n",
       "      <td>0.012611</td>\n",
       "      <td>-0.001778</td>\n",
       "      <td>-0.012555</td>\n",
       "    </tr>\n",
       "    <tr>\n",
       "      <th>2</th>\n",
       "      <td>0.008738</td>\n",
       "      <td>-0.043550</td>\n",
       "      <td>0.021100</td>\n",
       "      <td>0.014864</td>\n",
       "      <td>-0.030298</td>\n",
       "      <td>-0.018553</td>\n",
       "    </tr>\n",
       "    <tr>\n",
       "      <th>3</th>\n",
       "      <td>-0.004937</td>\n",
       "      <td>0.035521</td>\n",
       "      <td>0.001196</td>\n",
       "      <td>-0.020466</td>\n",
       "      <td>-0.000341</td>\n",
       "      <td>0.017549</td>\n",
       "    </tr>\n",
       "    <tr>\n",
       "      <th>4</th>\n",
       "      <td>0.012981</td>\n",
       "      <td>-0.017715</td>\n",
       "      <td>-0.016724</td>\n",
       "      <td>-0.022921</td>\n",
       "      <td>-0.025021</td>\n",
       "      <td>-0.009461</td>\n",
       "    </tr>\n",
       "    <tr>\n",
       "      <th>...</th>\n",
       "      <td>...</td>\n",
       "      <td>...</td>\n",
       "      <td>...</td>\n",
       "      <td>...</td>\n",
       "      <td>...</td>\n",
       "      <td>...</td>\n",
       "    </tr>\n",
       "    <tr>\n",
       "      <th>3195</th>\n",
       "      <td>0.013083</td>\n",
       "      <td>0.002170</td>\n",
       "      <td>0.020500</td>\n",
       "      <td>0.015467</td>\n",
       "      <td>-0.009585</td>\n",
       "      <td>-0.020672</td>\n",
       "    </tr>\n",
       "    <tr>\n",
       "      <th>3196</th>\n",
       "      <td>-0.001978</td>\n",
       "      <td>0.006068</td>\n",
       "      <td>0.004427</td>\n",
       "      <td>-0.020796</td>\n",
       "      <td>-0.012990</td>\n",
       "      <td>-0.017049</td>\n",
       "    </tr>\n",
       "    <tr>\n",
       "      <th>3197</th>\n",
       "      <td>-0.005792</td>\n",
       "      <td>-0.032236</td>\n",
       "      <td>0.010868</td>\n",
       "      <td>-0.031477</td>\n",
       "      <td>-0.025206</td>\n",
       "      <td>-0.016404</td>\n",
       "    </tr>\n",
       "    <tr>\n",
       "      <th>3198</th>\n",
       "      <td>-0.019850</td>\n",
       "      <td>0.018485</td>\n",
       "      <td>0.005088</td>\n",
       "      <td>-0.020195</td>\n",
       "      <td>0.007325</td>\n",
       "      <td>-0.018823</td>\n",
       "    </tr>\n",
       "    <tr>\n",
       "      <th>3199</th>\n",
       "      <td>-0.029934</td>\n",
       "      <td>0.022302</td>\n",
       "      <td>0.037601</td>\n",
       "      <td>0.014778</td>\n",
       "      <td>0.012657</td>\n",
       "      <td>0.013968</td>\n",
       "    </tr>\n",
       "  </tbody>\n",
       "</table>\n",
       "<p>3200 rows × 6 columns</p>\n",
       "</div>"
      ],
      "text/plain": [
       "          var1      var2      var3      var4      var5      var6\n",
       "0     0.016796 -0.017599  0.005208  0.013573  0.016217  0.018752\n",
       "1    -0.006609 -0.007507  0.032813  0.012611 -0.001778 -0.012555\n",
       "2     0.008738 -0.043550  0.021100  0.014864 -0.030298 -0.018553\n",
       "3    -0.004937  0.035521  0.001196 -0.020466 -0.000341  0.017549\n",
       "4     0.012981 -0.017715 -0.016724 -0.022921 -0.025021 -0.009461\n",
       "...        ...       ...       ...       ...       ...       ...\n",
       "3195  0.013083  0.002170  0.020500  0.015467 -0.009585 -0.020672\n",
       "3196 -0.001978  0.006068  0.004427 -0.020796 -0.012990 -0.017049\n",
       "3197 -0.005792 -0.032236  0.010868 -0.031477 -0.025206 -0.016404\n",
       "3198 -0.019850  0.018485  0.005088 -0.020195  0.007325 -0.018823\n",
       "3199 -0.029934  0.022302  0.037601  0.014778  0.012657  0.013968\n",
       "\n",
       "[3200 rows x 6 columns]"
      ]
     },
     "execution_count": 43,
     "metadata": {},
     "output_type": "execute_result"
    }
   ],
   "source": [
    "data['ICA']['X_train'][['var1', 'var2', 'var3', 'var4', 'var5', 'var6']]"
   ]
  },
  {
   "cell_type": "code",
   "execution_count": 28,
   "id": "556c2783",
   "metadata": {},
   "outputs": [
    {
     "data": {
      "text/html": [
       "<div>\n",
       "<style scoped>\n",
       "    .dataframe tbody tr th:only-of-type {\n",
       "        vertical-align: middle;\n",
       "    }\n",
       "\n",
       "    .dataframe tbody tr th {\n",
       "        vertical-align: top;\n",
       "    }\n",
       "\n",
       "    .dataframe thead th {\n",
       "        text-align: right;\n",
       "    }\n",
       "</style>\n",
       "<table border=\"1\" class=\"dataframe\">\n",
       "  <thead>\n",
       "    <tr style=\"text-align: right;\">\n",
       "      <th></th>\n",
       "      <th>var1</th>\n",
       "      <th>var2</th>\n",
       "      <th>var3</th>\n",
       "      <th>var4</th>\n",
       "      <th>var5</th>\n",
       "      <th>var6</th>\n",
       "      <th>Kmeans_cluster</th>\n",
       "      <th>EM_cluster</th>\n",
       "    </tr>\n",
       "  </thead>\n",
       "  <tbody>\n",
       "    <tr>\n",
       "      <th>0</th>\n",
       "      <td>-1.902367</td>\n",
       "      <td>0.906719</td>\n",
       "      <td>0.672417</td>\n",
       "      <td>-1.334384</td>\n",
       "      <td>1.232069</td>\n",
       "      <td>-1.720388</td>\n",
       "      <td>3</td>\n",
       "      <td>0</td>\n",
       "    </tr>\n",
       "    <tr>\n",
       "      <th>1</th>\n",
       "      <td>-2.557108</td>\n",
       "      <td>-0.133770</td>\n",
       "      <td>1.327158</td>\n",
       "      <td>-1.169185</td>\n",
       "      <td>0.185522</td>\n",
       "      <td>-0.038329</td>\n",
       "      <td>3</td>\n",
       "      <td>0</td>\n",
       "    </tr>\n",
       "    <tr>\n",
       "      <th>2</th>\n",
       "      <td>-3.831466</td>\n",
       "      <td>1.969754</td>\n",
       "      <td>0.672417</td>\n",
       "      <td>-0.600469</td>\n",
       "      <td>0.011098</td>\n",
       "      <td>0.136095</td>\n",
       "      <td>3</td>\n",
       "      <td>2</td>\n",
       "    </tr>\n",
       "    <tr>\n",
       "      <th>3</th>\n",
       "      <td>1.848281</td>\n",
       "      <td>0.437195</td>\n",
       "      <td>0.022349</td>\n",
       "      <td>1.245867</td>\n",
       "      <td>-1.470726</td>\n",
       "      <td>0.732874</td>\n",
       "      <td>1</td>\n",
       "      <td>1</td>\n",
       "    </tr>\n",
       "    <tr>\n",
       "      <th>4</th>\n",
       "      <td>0.573924</td>\n",
       "      <td>0.932939</td>\n",
       "      <td>-0.632393</td>\n",
       "      <td>-0.029772</td>\n",
       "      <td>-1.470726</td>\n",
       "      <td>0.732874</td>\n",
       "      <td>1</td>\n",
       "      <td>0</td>\n",
       "    </tr>\n",
       "    <tr>\n",
       "      <th>...</th>\n",
       "      <td>...</td>\n",
       "      <td>...</td>\n",
       "      <td>...</td>\n",
       "      <td>...</td>\n",
       "      <td>...</td>\n",
       "      <td>...</td>\n",
       "      <td>...</td>\n",
       "      <td>...</td>\n",
       "    </tr>\n",
       "    <tr>\n",
       "      <th>3195</th>\n",
       "      <td>-2.517842</td>\n",
       "      <td>0.331363</td>\n",
       "      <td>0.667744</td>\n",
       "      <td>-0.456760</td>\n",
       "      <td>-0.895084</td>\n",
       "      <td>1.046951</td>\n",
       "      <td>3</td>\n",
       "      <td>2</td>\n",
       "    </tr>\n",
       "    <tr>\n",
       "      <th>3196</th>\n",
       "      <td>0.883732</td>\n",
       "      <td>-0.031611</td>\n",
       "      <td>0.022349</td>\n",
       "      <td>0.601094</td>\n",
       "      <td>-1.470726</td>\n",
       "      <td>0.732874</td>\n",
       "      <td>1</td>\n",
       "      <td>1</td>\n",
       "    </tr>\n",
       "    <tr>\n",
       "      <th>3197</th>\n",
       "      <td>-0.080818</td>\n",
       "      <td>-0.500416</td>\n",
       "      <td>0.022349</td>\n",
       "      <td>-3.040291</td>\n",
       "      <td>-1.470726</td>\n",
       "      <td>0.732874</td>\n",
       "      <td>2</td>\n",
       "      <td>1</td>\n",
       "    </tr>\n",
       "    <tr>\n",
       "      <th>3198</th>\n",
       "      <td>1.848281</td>\n",
       "      <td>-1.403151</td>\n",
       "      <td>0.022349</td>\n",
       "      <td>0.351819</td>\n",
       "      <td>-1.063735</td>\n",
       "      <td>1.596907</td>\n",
       "      <td>1</td>\n",
       "      <td>4</td>\n",
       "    </tr>\n",
       "    <tr>\n",
       "      <th>3199</th>\n",
       "      <td>-2.208034</td>\n",
       "      <td>-1.742289</td>\n",
       "      <td>1.942633</td>\n",
       "      <td>-0.088687</td>\n",
       "      <td>-0.313669</td>\n",
       "      <td>-0.154612</td>\n",
       "      <td>3</td>\n",
       "      <td>4</td>\n",
       "    </tr>\n",
       "  </tbody>\n",
       "</table>\n",
       "<p>3200 rows × 8 columns</p>\n",
       "</div>"
      ],
      "text/plain": [
       "          var1      var2      var3      var4      var5      var6  \\\n",
       "0    -1.902367  0.906719  0.672417 -1.334384  1.232069 -1.720388   \n",
       "1    -2.557108 -0.133770  1.327158 -1.169185  0.185522 -0.038329   \n",
       "2    -3.831466  1.969754  0.672417 -0.600469  0.011098  0.136095   \n",
       "3     1.848281  0.437195  0.022349  1.245867 -1.470726  0.732874   \n",
       "4     0.573924  0.932939 -0.632393 -0.029772 -1.470726  0.732874   \n",
       "...        ...       ...       ...       ...       ...       ...   \n",
       "3195 -2.517842  0.331363  0.667744 -0.456760 -0.895084  1.046951   \n",
       "3196  0.883732 -0.031611  0.022349  0.601094 -1.470726  0.732874   \n",
       "3197 -0.080818 -0.500416  0.022349 -3.040291 -1.470726  0.732874   \n",
       "3198  1.848281 -1.403151  0.022349  0.351819 -1.063735  1.596907   \n",
       "3199 -2.208034 -1.742289  1.942633 -0.088687 -0.313669 -0.154612   \n",
       "\n",
       "      Kmeans_cluster  EM_cluster  \n",
       "0                  3           0  \n",
       "1                  3           0  \n",
       "2                  3           2  \n",
       "3                  1           1  \n",
       "4                  1           0  \n",
       "...              ...         ...  \n",
       "3195               3           2  \n",
       "3196               1           1  \n",
       "3197               2           1  \n",
       "3198               1           4  \n",
       "3199               3           4  \n",
       "\n",
       "[3200 rows x 8 columns]"
      ]
     },
     "execution_count": 28,
     "metadata": {},
     "output_type": "execute_result"
    }
   ],
   "source": [
    "data['RCA']['X_train'].iloc[:, : ]"
   ]
  },
  {
   "cell_type": "code",
   "execution_count": 31,
   "id": "e305f568",
   "metadata": {},
   "outputs": [
    {
     "data": {
      "text/plain": [
       "['var1', 'var2', 'var3', 'var4', 'var5', 'var6']"
      ]
     },
     "execution_count": 31,
     "metadata": {},
     "output_type": "execute_result"
    }
   ],
   "source": [
    "list(data['RFC']['X_train'].columns)[0:-2]"
   ]
  },
  {
   "cell_type": "markdown",
   "id": "9d0006dc",
   "metadata": {},
   "source": [
    "## 2. Trainning ANN\n"
   ]
  },
  {
   "cell_type": "code",
   "execution_count": 51,
   "id": "792f8b0e",
   "metadata": {},
   "outputs": [],
   "source": [
    "def CV(data):\n",
    "    \n",
    "    import multiprocessing\n",
    "\n",
    "    cores = multiprocessing.cpu_count()\n",
    "    \n",
    "    f1_cv = {}\n",
    "    kfold = model_selection.KFold(n_splits = 5, random_state = 2, shuffle = True)\n",
    "    variables = ['original', 'Kmeans_cluster', 'EM_cluster']\n",
    "    \n",
    "    \n",
    "    for i in data_lst:\n",
    "        f1_cv[i] = {}\n",
    "        for j in range(3):\n",
    "            \n",
    "            columns = list(data[i]['X_train'].columns)[0 : -2]\n",
    "            \n",
    "            if j > 0:\n",
    "                columns.append(variables[j])\n",
    "            print(columns)\n",
    "            ann = MLPClassifier(hidden_layer_sizes = (5, 5, 5, 5), activation = \"relu\",\n",
    "                                    learning_rate_init = 0.1, random_state = 1)\n",
    "#             ann = MLPClassifier()\n",
    "            ann.fit(data[i]['X_train'][columns], data[i]['Y_train'])\n",
    "            cv_results = cross_val_score(estimator = ann,\n",
    "                                          X = data[i]['X_train'][columns],\n",
    "                                          y = data[i]['Y_train'],\n",
    "                                          cv = kfold,\n",
    "                                          scoring = 'f1', \n",
    "                                          n_jobs = cores - 1)\n",
    "            f1_cv[i][variables[j]] = cv_results.mean()\n",
    "    \n",
    "    \n",
    "    return f1_cv"
   ]
  },
  {
   "cell_type": "code",
   "execution_count": 54,
   "id": "3df6afd8",
   "metadata": {},
   "outputs": [],
   "source": [
    "def CV2(data):\n",
    "    \n",
    "    import multiprocessing\n",
    "\n",
    "    cores = multiprocessing.cpu_count()\n",
    "    \n",
    "    f1_cv = {}\n",
    "    kfold = model_selection.KFold(n_splits = 5, random_state = 2, shuffle = True)\n",
    "    variables = ['original', 'Kmeans_cluster', 'EM_cluster']\n",
    "    \n",
    "    \n",
    "    for i in data_lst:\n",
    "        f1_cv[i] = {}\n",
    "        for j in range(3):\n",
    "            \n",
    "            columns = list(data[i]['X_train'].columns)[0 : -2]\n",
    "            \n",
    "            if j > 0:\n",
    "                columns.append(variables[j])\n",
    "            print(columns)\n",
    "            ann = MLPClassifier(hidden_layer_sizes = (5, 5, 5, 5), activation = \"relu\",\n",
    "                                    learning_rate_init = 0.1, random_state = 1)\n",
    "#             ann = MLPClassifier()\n",
    "            ann.fit(data[i]['X_train'][columns], data[i]['Y_train'])\n",
    "            cv_results = cross_val_score(estimator = ann,\n",
    "                                          X = data[i]['X_train'][columns],\n",
    "                                          y = data[i]['Y_train'],\n",
    "                                          cv = kfold,\n",
    "                                          scoring = 'roc_auc', \n",
    "                                          n_jobs = cores - 1)\n",
    "            f1_cv[i][variables[j]] = cv_results.mean()\n",
    "    \n",
    "    \n",
    "    return f1_cv"
   ]
  },
  {
   "cell_type": "code",
   "execution_count": 52,
   "id": "0c3e854a",
   "metadata": {},
   "outputs": [
    {
     "name": "stdout",
     "output_type": "stream",
     "text": [
      "['var1', 'var2', 'var3', 'var4', 'var5', 'var6', 'var7']\n"
     ]
    },
    {
     "name": "stderr",
     "output_type": "stream",
     "text": [
      "E:\\Tools\\Anaconda\\conda\\lib\\site-packages\\sklearn\\utils\\validation.py:63: DataConversionWarning: A column-vector y was passed when a 1d array was expected. Please change the shape of y to (n_samples, ), for example using ravel().\n",
      "  return f(*args, **kwargs)\n"
     ]
    },
    {
     "name": "stdout",
     "output_type": "stream",
     "text": [
      "['var1', 'var2', 'var3', 'var4', 'var5', 'var6', 'var7', 'Kmeans_cluster']\n"
     ]
    },
    {
     "name": "stderr",
     "output_type": "stream",
     "text": [
      "E:\\Tools\\Anaconda\\conda\\lib\\site-packages\\sklearn\\utils\\validation.py:63: DataConversionWarning: A column-vector y was passed when a 1d array was expected. Please change the shape of y to (n_samples, ), for example using ravel().\n",
      "  return f(*args, **kwargs)\n"
     ]
    },
    {
     "name": "stdout",
     "output_type": "stream",
     "text": [
      "['var1', 'var2', 'var3', 'var4', 'var5', 'var6', 'var7', 'EM_cluster']\n"
     ]
    },
    {
     "name": "stderr",
     "output_type": "stream",
     "text": [
      "E:\\Tools\\Anaconda\\conda\\lib\\site-packages\\sklearn\\utils\\validation.py:63: DataConversionWarning: A column-vector y was passed when a 1d array was expected. Please change the shape of y to (n_samples, ), for example using ravel().\n",
      "  return f(*args, **kwargs)\n"
     ]
    },
    {
     "name": "stdout",
     "output_type": "stream",
     "text": [
      "['var1', 'var2', 'var3', 'var4', 'var5', 'var6']\n"
     ]
    },
    {
     "name": "stderr",
     "output_type": "stream",
     "text": [
      "E:\\Tools\\Anaconda\\conda\\lib\\site-packages\\sklearn\\utils\\validation.py:63: DataConversionWarning: A column-vector y was passed when a 1d array was expected. Please change the shape of y to (n_samples, ), for example using ravel().\n",
      "  return f(*args, **kwargs)\n"
     ]
    },
    {
     "name": "stdout",
     "output_type": "stream",
     "text": [
      "['var1', 'var2', 'var3', 'var4', 'var5', 'var6', 'Kmeans_cluster']\n"
     ]
    },
    {
     "name": "stderr",
     "output_type": "stream",
     "text": [
      "E:\\Tools\\Anaconda\\conda\\lib\\site-packages\\sklearn\\utils\\validation.py:63: DataConversionWarning: A column-vector y was passed when a 1d array was expected. Please change the shape of y to (n_samples, ), for example using ravel().\n",
      "  return f(*args, **kwargs)\n"
     ]
    },
    {
     "name": "stdout",
     "output_type": "stream",
     "text": [
      "['var1', 'var2', 'var3', 'var4', 'var5', 'var6', 'EM_cluster']\n"
     ]
    },
    {
     "name": "stderr",
     "output_type": "stream",
     "text": [
      "E:\\Tools\\Anaconda\\conda\\lib\\site-packages\\sklearn\\utils\\validation.py:63: DataConversionWarning: A column-vector y was passed when a 1d array was expected. Please change the shape of y to (n_samples, ), for example using ravel().\n",
      "  return f(*args, **kwargs)\n"
     ]
    },
    {
     "name": "stdout",
     "output_type": "stream",
     "text": [
      "['var1', 'var2', 'var3', 'var4', 'var5', 'var6']\n"
     ]
    },
    {
     "name": "stderr",
     "output_type": "stream",
     "text": [
      "E:\\Tools\\Anaconda\\conda\\lib\\site-packages\\sklearn\\utils\\validation.py:63: DataConversionWarning: A column-vector y was passed when a 1d array was expected. Please change the shape of y to (n_samples, ), for example using ravel().\n",
      "  return f(*args, **kwargs)\n"
     ]
    },
    {
     "name": "stdout",
     "output_type": "stream",
     "text": [
      "['var1', 'var2', 'var3', 'var4', 'var5', 'var6', 'Kmeans_cluster']\n"
     ]
    },
    {
     "name": "stderr",
     "output_type": "stream",
     "text": [
      "E:\\Tools\\Anaconda\\conda\\lib\\site-packages\\sklearn\\utils\\validation.py:63: DataConversionWarning: A column-vector y was passed when a 1d array was expected. Please change the shape of y to (n_samples, ), for example using ravel().\n",
      "  return f(*args, **kwargs)\n"
     ]
    },
    {
     "name": "stdout",
     "output_type": "stream",
     "text": [
      "['var1', 'var2', 'var3', 'var4', 'var5', 'var6', 'EM_cluster']\n"
     ]
    },
    {
     "name": "stderr",
     "output_type": "stream",
     "text": [
      "E:\\Tools\\Anaconda\\conda\\lib\\site-packages\\sklearn\\utils\\validation.py:63: DataConversionWarning: A column-vector y was passed when a 1d array was expected. Please change the shape of y to (n_samples, ), for example using ravel().\n",
      "  return f(*args, **kwargs)\n"
     ]
    },
    {
     "name": "stdout",
     "output_type": "stream",
     "text": [
      "['var1', 'var2', 'var3', 'var4', 'var5', 'var6']\n"
     ]
    },
    {
     "name": "stderr",
     "output_type": "stream",
     "text": [
      "E:\\Tools\\Anaconda\\conda\\lib\\site-packages\\sklearn\\utils\\validation.py:63: DataConversionWarning: A column-vector y was passed when a 1d array was expected. Please change the shape of y to (n_samples, ), for example using ravel().\n",
      "  return f(*args, **kwargs)\n"
     ]
    },
    {
     "name": "stdout",
     "output_type": "stream",
     "text": [
      "['var1', 'var2', 'var3', 'var4', 'var5', 'var6', 'Kmeans_cluster']\n"
     ]
    },
    {
     "name": "stderr",
     "output_type": "stream",
     "text": [
      "E:\\Tools\\Anaconda\\conda\\lib\\site-packages\\sklearn\\utils\\validation.py:63: DataConversionWarning: A column-vector y was passed when a 1d array was expected. Please change the shape of y to (n_samples, ), for example using ravel().\n",
      "  return f(*args, **kwargs)\n"
     ]
    },
    {
     "name": "stdout",
     "output_type": "stream",
     "text": [
      "['var1', 'var2', 'var3', 'var4', 'var5', 'var6', 'EM_cluster']\n"
     ]
    },
    {
     "name": "stderr",
     "output_type": "stream",
     "text": [
      "E:\\Tools\\Anaconda\\conda\\lib\\site-packages\\sklearn\\utils\\validation.py:63: DataConversionWarning: A column-vector y was passed when a 1d array was expected. Please change the shape of y to (n_samples, ), for example using ravel().\n",
      "  return f(*args, **kwargs)\n"
     ]
    }
   ],
   "source": [
    "f1_cv = CV(data)"
   ]
  },
  {
   "cell_type": "code",
   "execution_count": 55,
   "id": "e6d3f104",
   "metadata": {},
   "outputs": [
    {
     "name": "stdout",
     "output_type": "stream",
     "text": [
      "['var1', 'var2', 'var3', 'var4', 'var5', 'var6', 'var7']\n"
     ]
    },
    {
     "name": "stderr",
     "output_type": "stream",
     "text": [
      "E:\\Tools\\Anaconda\\conda\\lib\\site-packages\\sklearn\\utils\\validation.py:63: DataConversionWarning: A column-vector y was passed when a 1d array was expected. Please change the shape of y to (n_samples, ), for example using ravel().\n",
      "  return f(*args, **kwargs)\n"
     ]
    },
    {
     "name": "stdout",
     "output_type": "stream",
     "text": [
      "['var1', 'var2', 'var3', 'var4', 'var5', 'var6', 'var7', 'Kmeans_cluster']\n"
     ]
    },
    {
     "name": "stderr",
     "output_type": "stream",
     "text": [
      "E:\\Tools\\Anaconda\\conda\\lib\\site-packages\\sklearn\\utils\\validation.py:63: DataConversionWarning: A column-vector y was passed when a 1d array was expected. Please change the shape of y to (n_samples, ), for example using ravel().\n",
      "  return f(*args, **kwargs)\n"
     ]
    },
    {
     "name": "stdout",
     "output_type": "stream",
     "text": [
      "['var1', 'var2', 'var3', 'var4', 'var5', 'var6', 'var7', 'EM_cluster']\n"
     ]
    },
    {
     "name": "stderr",
     "output_type": "stream",
     "text": [
      "E:\\Tools\\Anaconda\\conda\\lib\\site-packages\\sklearn\\utils\\validation.py:63: DataConversionWarning: A column-vector y was passed when a 1d array was expected. Please change the shape of y to (n_samples, ), for example using ravel().\n",
      "  return f(*args, **kwargs)\n"
     ]
    },
    {
     "name": "stdout",
     "output_type": "stream",
     "text": [
      "['var1', 'var2', 'var3', 'var4', 'var5', 'var6']\n"
     ]
    },
    {
     "name": "stderr",
     "output_type": "stream",
     "text": [
      "E:\\Tools\\Anaconda\\conda\\lib\\site-packages\\sklearn\\utils\\validation.py:63: DataConversionWarning: A column-vector y was passed when a 1d array was expected. Please change the shape of y to (n_samples, ), for example using ravel().\n",
      "  return f(*args, **kwargs)\n"
     ]
    },
    {
     "name": "stdout",
     "output_type": "stream",
     "text": [
      "['var1', 'var2', 'var3', 'var4', 'var5', 'var6', 'Kmeans_cluster']\n"
     ]
    },
    {
     "name": "stderr",
     "output_type": "stream",
     "text": [
      "E:\\Tools\\Anaconda\\conda\\lib\\site-packages\\sklearn\\utils\\validation.py:63: DataConversionWarning: A column-vector y was passed when a 1d array was expected. Please change the shape of y to (n_samples, ), for example using ravel().\n",
      "  return f(*args, **kwargs)\n"
     ]
    },
    {
     "name": "stdout",
     "output_type": "stream",
     "text": [
      "['var1', 'var2', 'var3', 'var4', 'var5', 'var6', 'EM_cluster']\n",
      "['var1', 'var2', 'var3', 'var4', 'var5', 'var6']\n"
     ]
    },
    {
     "name": "stderr",
     "output_type": "stream",
     "text": [
      "E:\\Tools\\Anaconda\\conda\\lib\\site-packages\\sklearn\\utils\\validation.py:63: DataConversionWarning: A column-vector y was passed when a 1d array was expected. Please change the shape of y to (n_samples, ), for example using ravel().\n",
      "  return f(*args, **kwargs)\n",
      "E:\\Tools\\Anaconda\\conda\\lib\\site-packages\\sklearn\\utils\\validation.py:63: DataConversionWarning: A column-vector y was passed when a 1d array was expected. Please change the shape of y to (n_samples, ), for example using ravel().\n",
      "  return f(*args, **kwargs)\n"
     ]
    },
    {
     "name": "stdout",
     "output_type": "stream",
     "text": [
      "['var1', 'var2', 'var3', 'var4', 'var5', 'var6', 'Kmeans_cluster']\n"
     ]
    },
    {
     "name": "stderr",
     "output_type": "stream",
     "text": [
      "E:\\Tools\\Anaconda\\conda\\lib\\site-packages\\sklearn\\utils\\validation.py:63: DataConversionWarning: A column-vector y was passed when a 1d array was expected. Please change the shape of y to (n_samples, ), for example using ravel().\n",
      "  return f(*args, **kwargs)\n"
     ]
    },
    {
     "name": "stdout",
     "output_type": "stream",
     "text": [
      "['var1', 'var2', 'var3', 'var4', 'var5', 'var6', 'EM_cluster']\n"
     ]
    },
    {
     "name": "stderr",
     "output_type": "stream",
     "text": [
      "E:\\Tools\\Anaconda\\conda\\lib\\site-packages\\sklearn\\utils\\validation.py:63: DataConversionWarning: A column-vector y was passed when a 1d array was expected. Please change the shape of y to (n_samples, ), for example using ravel().\n",
      "  return f(*args, **kwargs)\n"
     ]
    },
    {
     "name": "stdout",
     "output_type": "stream",
     "text": [
      "['var1', 'var2', 'var3', 'var4', 'var5', 'var6']\n"
     ]
    },
    {
     "name": "stderr",
     "output_type": "stream",
     "text": [
      "E:\\Tools\\Anaconda\\conda\\lib\\site-packages\\sklearn\\utils\\validation.py:63: DataConversionWarning: A column-vector y was passed when a 1d array was expected. Please change the shape of y to (n_samples, ), for example using ravel().\n",
      "  return f(*args, **kwargs)\n"
     ]
    },
    {
     "name": "stdout",
     "output_type": "stream",
     "text": [
      "['var1', 'var2', 'var3', 'var4', 'var5', 'var6', 'Kmeans_cluster']\n"
     ]
    },
    {
     "name": "stderr",
     "output_type": "stream",
     "text": [
      "E:\\Tools\\Anaconda\\conda\\lib\\site-packages\\sklearn\\utils\\validation.py:63: DataConversionWarning: A column-vector y was passed when a 1d array was expected. Please change the shape of y to (n_samples, ), for example using ravel().\n",
      "  return f(*args, **kwargs)\n"
     ]
    },
    {
     "name": "stdout",
     "output_type": "stream",
     "text": [
      "['var1', 'var2', 'var3', 'var4', 'var5', 'var6', 'EM_cluster']\n"
     ]
    },
    {
     "name": "stderr",
     "output_type": "stream",
     "text": [
      "E:\\Tools\\Anaconda\\conda\\lib\\site-packages\\sklearn\\utils\\validation.py:63: DataConversionWarning: A column-vector y was passed when a 1d array was expected. Please change the shape of y to (n_samples, ), for example using ravel().\n",
      "  return f(*args, **kwargs)\n"
     ]
    }
   ],
   "source": [
    "roc_cv = CV2(data) "
   ]
  },
  {
   "cell_type": "code",
   "execution_count": 53,
   "id": "077d620d",
   "metadata": {},
   "outputs": [
    {
     "data": {
      "text/plain": [
       "{'PCA': {'original': 0.4102146159402845,\n",
       "  'Kmeans_cluster': 0.41364123729095903,\n",
       "  'EM_cluster': 0.48861647507080325},\n",
       " 'ICA': {'original': 0.11621621621621621,\n",
       "  'Kmeans_cluster': 0.5035125672164211,\n",
       "  'EM_cluster': 0.0},\n",
       " 'RCA': {'original': 0.4781864047317893,\n",
       "  'Kmeans_cluster': 0.4032759357554524,\n",
       "  'EM_cluster': 0.40089698465933693},\n",
       " 'RFC': {'original': 0.4676667625656399,\n",
       "  'Kmeans_cluster': 0.49649430659802996,\n",
       "  'EM_cluster': 0.3976090021155917}}"
      ]
     },
     "execution_count": 53,
     "metadata": {},
     "output_type": "execute_result"
    }
   ],
   "source": [
    "f1_cv"
   ]
  },
  {
   "cell_type": "code",
   "execution_count": 56,
   "id": "3c3e7eda",
   "metadata": {},
   "outputs": [
    {
     "data": {
      "text/plain": [
       "{'PCA': {'original': 0.7246927158665775,\n",
       "  'Kmeans_cluster': 0.708113630357471,\n",
       "  'EM_cluster': 0.7147765857068302},\n",
       " 'ICA': {'original': 0.5480341088860594,\n",
       "  'Kmeans_cluster': 0.7170934580866405,\n",
       "  'EM_cluster': 0.5},\n",
       " 'RCA': {'original': 0.7149959832712134,\n",
       "  'Kmeans_cluster': 0.7081464088309406,\n",
       "  'EM_cluster': 0.7194364399885255},\n",
       " 'RFC': {'original': 0.7623206800015715,\n",
       "  'Kmeans_cluster': 0.7521755622033279,\n",
       "  'EM_cluster': 0.7357650588122936}}"
      ]
     },
     "execution_count": 56,
     "metadata": {},
     "output_type": "execute_result"
    }
   ],
   "source": [
    "roc_cv"
   ]
  },
  {
   "cell_type": "code",
   "execution_count": 57,
   "id": "e415cd93",
   "metadata": {},
   "outputs": [],
   "source": [
    "ori, km, em = list(), list(), list()\n",
    "for i in roc_cv.values():\n",
    "    ori.append(i['original'])\n",
    "    km.append(i['Kmeans_cluster'])\n",
    "    em.append(i['EM_cluster'])"
   ]
  },
  {
   "cell_type": "code",
   "execution_count": 47,
   "id": "2fea003e",
   "metadata": {},
   "outputs": [
    {
     "name": "stdout",
     "output_type": "stream",
     "text": [
      "[0.5262403206341826, 0.11263537906137182, 0.46909628286901467, 0.515475942640459]\n"
     ]
    }
   ],
   "source": [
    "ori, km, em = list(), list(), list()\n",
    "for i in f1_cv.values():\n",
    "    ori.append(i['original'])\n",
    "    km.append(i['Kmeans_cluster'])\n",
    "    em.append(i['EM_cluster'])\n",
    "print(ori)"
   ]
  },
  {
   "cell_type": "code",
   "execution_count": 10,
   "id": "4de56f84",
   "metadata": {},
   "outputs": [],
   "source": [
    "def plot_bar(ori, km, em):\n",
    "    \n",
    "    plt.style.use('seaborn')\n",
    "    \n",
    "    N = 4\n",
    "    ind = np.arange(N)  # the x locations for the groups\n",
    "    width = 0.2\n",
    "    variables = ['original', 'Kmeans_cluster', 'EM_cluster']\n",
    "    color_schema = ['#ffcb77', '#17c3b2', '#227c9d']\n",
    "    data_lst = [ori, km, em]\n",
    "    \n",
    "    fig = plt.figure()\n",
    "    ax = fig.add_subplot()\n",
    "    for i, value in enumerate(color_schema):\n",
    "        rects = ax.bar(ind + width * i, data_lst[i], width, color = value)\n",
    "        \n",
    "    ax.set_ylabel('F1 Scores')\n",
    "    ax.set_title('F1 Scores for ANN in CV')\n",
    "    ax.set_xticks(ind + width)\n",
    "    ax.set_xticklabels( (f1_cv.keys()) )\n",
    "\n",
    "    ax.legend( ['original', 'Kmeans_cluster', 'EM_cluster'], bbox_to_anchor = (1.05, 0.6))\n",
    "    plt.show()"
   ]
  },
  {
   "cell_type": "code",
   "execution_count": 48,
   "id": "bba96d12",
   "metadata": {},
   "outputs": [
    {
     "data": {
      "image/png": "[encoded data removed]",
      "text/plain": [
       "<Figure size 576x396 with 1 Axes>"
      ]
     },
     "metadata": {},
     "output_type": "display_data"
    }
   ],
   "source": [
    "plot_bar(ori, km, em)"
   ]
  },
  {
   "cell_type": "code",
   "execution_count": 22,
   "id": "e5c7010f",
   "metadata": {},
   "outputs": [
    {
     "data": {
      "image/png": "[encoded data removed]",
      "text/plain": [
       "<Figure size 576x396 with 1 Axes>"
      ]
     },
     "metadata": {},
     "output_type": "display_data"
    }
   ],
   "source": [
    "plot_bar(ori, km, em)"
   ]
  },
  {
   "cell_type": "code",
   "execution_count": null,
   "id": "919fbbae",
   "metadata": {},
   "outputs": [],
   "source": [
    "import numpy as np\n",
    "import matplotlib.pyplot as plt\n",
    "\n",
    "N = 5\n",
    "menMeans = (20, 35, 30, 35, 27)\n",
    "menStd =   (2, 3, 4, 1, 2)\n",
    "\n",
    "ind = np.arange(N)  # the x locations for the groups\n",
    "width = 0.35       # the width of the bars\n",
    "\n",
    "fig = plt.figure()\n",
    "ax = fig.add_subplot(111)\n",
    "rects1 = ax.bar(ind, menMeans, width, color='royalblue', yerr=menStd)\n",
    "\n",
    "womenMeans = (25, 32, 34, 20, 25)\n",
    "womenStd =   (3, 5, 2, 3, 3)\n",
    "rects2 = ax.bar(ind+width, womenMeans, width, color='seagreen', yerr=womenStd)\n",
    "\n",
    "# add some\n",
    "ax.set_ylabel('Scores')\n",
    "ax.set_title('Scores by group and gender')\n",
    "ax.set_xticks(ind + width / 2)\n",
    "ax.set_xticklabels( ('G1', 'G2', 'G3', 'G4', 'G5') )\n",
    "\n",
    "ax.legend( (rects1[0], rects2[0]), ('Men', 'Women') )\n",
    "\n",
    "plt.show()"
   ]
  }
 ],
 "metadata": {
  "kernelspec": {
   "display_name": "Python 3",
   "language": "python",
   "name": "python3"
  },
  "language_info": {
   "codemirror_mode": {
    "name": "ipython",
    "version": 3
   },
   "file_extension": ".py",
   "mimetype": "text/x-python",
   "name": "python",
   "nbconvert_exporter": "python",
   "pygments_lexer": "ipython3",
   "version": "3.8.8"
  }
 },
 "nbformat": 4,
 "nbformat_minor": 5
}
