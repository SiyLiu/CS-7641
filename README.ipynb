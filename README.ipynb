{
 "cells": [
  {
   "cell_type": "markdown",
   "id": "0371fd04",
   "metadata": {},
   "source": [
    "## Readme\n",
    "\n",
    "[__1. About The Project__](#1)\n",
    "\n",
    "[__2. Getting Started__](#2)\n",
    "   - Prerequisites\n",
    "   - Instruction"
   ]
  },
  {
   "cell_type": "markdown",
   "id": "275d58f5",
   "metadata": {},
   "source": [
    "<a id='1'></a>\n",
    "### 1. About The Project"
   ]
  },
  {
   "cell_type": "markdown",
   "id": "04a21d15",
   "metadata": {},
   "source": [
    "It is very crucial for financial institutes to predict the default status of credit card customers, which will help the bank take actions in time to keep the level of loss. Based upon experience, both basic information and the payment behaviors matter in predicting the default status. \n",
    "\n",
    "This study sampled two datasets with the size of 3000 from the original datasets, and saved a separate data for the validation purposes (size: 2000). Two datasets keep partial features respectively. The first dataset keeps all personal information including limit balance, gender, education, marital status, and age, and payment status for the past 6 months. The second dataset includes the payment amount and bill statement amount in the past 6 months. \n"
   ]
  },
  {
   "cell_type": "markdown",
   "id": "9c7beff5",
   "metadata": {},
   "source": [
    "<a id='2'></a>\n",
    "### 2. Getting Started\n",
    "\n",
    "#### Prerequisites\n",
    "Below lists the environment prerequisties for the project.\n",
    "\n",
    "platform: win-64<br>\n",
    "ca-certificates=2021.7.5=haa95532_1<br>\n",
    "certifi=2021.5.30=py38haa95532_0<br>\n",
    "cycler=0.10.0=pypi_0<br>\n",
    "joblib=1.0.1=pypi_0<br>\n",
    "kiwisolver=1.3.2=pypi_0<br>\n",
    "matplotlib=3.4.3=pypi_0<br>\n",
    "numpy=1.21.2=pypi_0<br>\n",
    "openssl=1.1.1l=h2bbff1b_0<br>\n",
    "pandas=1.3.3=pypi_0<br>\n",
    "pillow=8.3.2=pypi_0<br>\n",
    "pip=21.0.1=py38haa95532_0<br>\n",
    "pyparsing=2.4.7=pypi_0<br>\n",
    "python=3.8.11=h6244533_1<br>\n",
    "python-dateutil=2.8.2=pypi_0<br>\n",
    "pytz=2021.1=pypi_0<br>\n",
    "scikit-learn=1.0=pypi_0<br>\n",
    "scipy=1.7.1=pypi_0<br>\n",
    "seaborn=0.11.2=pypi_0<br>\n",
    "setuptools=58.0.4=py38haa95532_0<br>\n",
    "six=1.16.0=pypi_0<br>\n",
    "sqlite=3.36.0=h2bbff1b_0<br>\n",
    "threadpoolctl=2.2.0=pypi_0<br>\n",
    "vc=14.2=h21ff451_1<br>\n",
    "vs2015_runtime=14.27.29016=h5e58377_2<br>\n",
    "wheel=0.37.0=pyhd3eb1b0_1<br>\n",
    "wincertstore=0.2=py38_0<br>"
   ]
  },
  {
   "cell_type": "markdown",
   "id": "651571c9",
   "metadata": {},
   "source": [
    "#### Instruction"
   ]
  },
  {
   "cell_type": "markdown",
   "id": "2883d2a0",
   "metadata": {},
   "source": [
    "The data files(.csv) is saved under the same directory as the main program. To kick off the program, please open corresponding .ipynb file and hit run button above. The program will automatically train the model, conduct Grid Search, generate the plots, and dump the model into a file."
   ]
  }
 ],
 "metadata": {
  "kernelspec": {
   "display_name": "Python 3",
   "language": "python",
   "name": "python3"
  },
  "language_info": {
   "codemirror_mode": {
    "name": "ipython",
    "version": 3
   },
   "file_extension": ".py",
   "mimetype": "text/x-python",
   "name": "python",
   "nbconvert_exporter": "python",
   "pygments_lexer": "ipython3",
   "version": "3.8.8"
  }
 },
 "nbformat": 4,
 "nbformat_minor": 5
}
