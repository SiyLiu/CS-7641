{
 "cells": [
  {
   "cell_type": "code",
   "execution_count": 1,
   "metadata": {},
   "outputs": [],
   "source": [
    "import pandas as pd\n",
    "import numpy as np\n",
    "import seaborn as sbn\n",
    "import matplotlib.pyplot as plt\n",
    "from helper import *\n",
    "\n",
    "from sklearn.model_selection import learning_curve, train_test_split,GridSearchCV\n",
    "from sklearn.tree import DecisionTreeClassifier\n",
    "from sklearn.metrics import roc_auc_score, accuracy_score, f1_score, precision_score, recall_score, confusion_matrix\n",
    "\n",
    "\n",
    "raw_data = pd.read_csv(\"../Data/default_of_credit_card_clients.csv\",header = 0)\n",
    "\n",
    "#Check data sanity\n",
    "raw_data.describe()\n",
    "raw_data.isnull().sum()\n",
    "\n",
    "#Check character variables levels\n",
    "\n",
    "#SEX, EDUCATION, MARRIAGE\n",
    "\n",
    "raw_data['SEX'].value_counts()\n",
    "# 1    11888\n",
    "# 2    18112\n",
    "\n",
    "raw_data.groupby('EDUCATION')['EDUCATION'].count()\n",
    "# 0       14\n",
    "# 1    10585\n",
    "# 2    14030\n",
    "# 3     4917\n",
    "# 4      123\n",
    "# 5      280\n",
    "# 6       51\n",
    "\n",
    "raw_data.groupby('MARRIAGE')['MARRIAGE'].count()\n",
    "\n",
    "# 0       54\n",
    "# 1    13659\n",
    "# 2    15964\n",
    "# 3      323\n",
    "\n",
    "# Chcek if the data is balanced\n",
    "raw_data['default_payment_next_month'].value_counts()\n",
    "\n",
    "# 0    23364\n",
    "# 1     6636\n",
    "\n",
    "\n",
    "# divide into test and training\n",
    "raw_data.drop('ID',inplace = True,axis = 1)\n",
    "_y_target = raw_data['default_payment_next_month'].values\n",
    "columns = raw_data.columns.tolist()\n",
    "columns.remove('default_payment_next_month')\n",
    "_x_attributes = raw_data[columns].values\n",
    "\n",
    "_x_train,_x_test,_y_train, _y_test = train_test_split(_x_attributes, _y_target, test_size =0.30, stratify = _y_target, random_state = 1)\n"
   ]
  },
  {
   "cell_type": "code",
   "execution_count": 2,
   "metadata": {},
   "outputs": [],
   "source": [
    "from sklearn.neural_network import MLPClassifier\n",
    "from sklearn import preprocessing\n",
    "\n",
    "#Normalize the data before building the ANN model\n",
    "scaler = preprocessing.StandardScaler().fit(_x_train)\n",
    "scale_x_train = scaler.transform(_x_train)\n",
    "scale_x_test = scaler.transform(_x_test)"
   ]
  },
  {
   "cell_type": "code",
   "execution_count": 8,
   "metadata": {},
   "outputs": [],
   "source": [
    "from sklearn.neighbors import KNeighborsClassifier as kNN\n",
    "\n",
    "def hyperKNN(X_train, y_train, X_test, y_test, title):\n",
    "    \n",
    "    f1_test = []\n",
    "    f1_train = []\n",
    "    klist = np.linspace(10,400,40).astype('int')\n",
    "    for i in klist:\n",
    "        clf = kNN(n_neighbors=i,n_jobs=-1)\n",
    "        clf.fit(X_train,y_train)\n",
    "        y_pred_test = clf.predict(X_test)\n",
    "        y_pred_train = clf.predict(X_train)\n",
    "        f1_test.append(f1_score(y_test, y_pred_test))\n",
    "        f1_train.append(f1_score(y_train, y_pred_train))\n",
    "        \n",
    "    plt.plot(klist, f1_test, 'o-', color='r', label='Test F1 Score')\n",
    "    plt.plot(klist, f1_train, 'o-', color = 'b', label='Train F1 Score')\n",
    "    plt.ylabel('Model F1 Score')\n",
    "    plt.xlabel('No. Neighbors')\n",
    "    \n",
    "    plt.title(title)\n",
    "    plt.legend(loc='best')\n",
    "    plt.tight_layout()\n",
    "    plt.show()"
   ]
  },
  {
   "cell_type": "code",
   "execution_count": 9,
   "metadata": {},
   "outputs": [
    {
     "data": {
      "text/plain": [
       "array([ 10.,  20.,  30.,  40.,  50.,  60.,  70.,  80.,  90., 100., 110.,\n",
       "       120., 130., 140., 150., 160., 170., 180., 190., 200., 210., 220.,\n",
       "       230., 240., 250., 260., 270., 280., 290., 300., 310., 320., 330.,\n",
       "       340., 350., 360., 370., 380., 390., 400.])"
      ]
     },
     "execution_count": 9,
     "metadata": {},
     "output_type": "execute_result"
    }
   ],
   "source": [
    "np.linspace(10,400,40)"
   ]
  },
  {
   "cell_type": "code",
   "execution_count": null,
   "metadata": {},
   "outputs": [],
   "source": [
    "hyperKNN(scale_x_train, _y_train, scale_x_test, _y_test,title=\"Model Complexity Curve for kNN (Diabetes Data)\\nHyperparameter : No. Neighbors\")\n"
   ]
  },
  {
   "cell_type": "code",
   "execution_count": null,
   "metadata": {},
   "outputs": [],
   "source": []
  }
 ],
 "metadata": {
  "kernelspec": {
   "display_name": "Python 3",
   "language": "python",
   "name": "python3"
  },
  "language_info": {
   "codemirror_mode": {
    "name": "ipython",
    "version": 3
   },
   "file_extension": ".py",
   "mimetype": "text/x-python",
   "name": "python",
   "nbconvert_exporter": "python",
   "pygments_lexer": "ipython3",
   "version": "3.6.10"
  }
 },
 "nbformat": 4,
 "nbformat_minor": 4
}
