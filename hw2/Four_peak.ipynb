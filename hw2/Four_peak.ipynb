{
 "cells": [
  {
   "cell_type": "code",
   "execution_count": 62,
   "metadata": {
    "collapsed": true
   },
   "outputs": [],
   "source": [
    "import mlrose_hiive as mr\n",
    "from mlrose_hiive.decorators import short_name\n",
    "import pandas as pd\n",
    "import numpy as np\n",
    "import seaborn as sns\n",
    "import matplotlib.pyplot as plt\n",
    "import time\n",
    "sns.set_style(\"whitegrid\")"
   ]
  },
  {
   "cell_type": "code",
   "execution_count": 37,
   "outputs": [],
   "source": [
    "#Four Peaks\n",
    "fpeaks_fitness = mr.FourPeaks()"
   ],
   "metadata": {
    "collapsed": false,
    "pycharm": {
     "name": "#%%\n"
    }
   }
  },
  {
   "cell_type": "code",
   "execution_count": 38,
   "outputs": [],
   "source": [
    "problem = mr.DiscreteOpt(length = 64,\n",
    "                         fitness_fn = fpeaks_fitness,\n",
    "                         maximize = True,\n",
    "                         max_val = 2)"
   ],
   "metadata": {
    "collapsed": false,
    "pycharm": {
     "name": "#%%\n"
    }
   }
  },
  {
   "cell_type": "code",
   "execution_count": 39,
   "outputs": [
    {
     "name": "stdout",
     "output_type": "stream",
     "text": [
      "RHC best fitness: 120 in 6.7554 seconds and 2708 iterations\n"
     ]
    }
   ],
   "source": [
    "start_time = time.perf_counter()\n",
    "rhc_best_state, rhc_best_fitness, rhc_curve = mr.random_hill_climb(problem=problem,\n",
    "                       random_state=42,\n",
    "                       max_iters = 5000,\n",
    "                       max_attempts=1000,\n",
    "                       restarts=100,\n",
    "                       curve = True)\n",
    "rhc_time = time.perf_counter() - start_time\n",
    "print(\"RHC best fitness: {0:.0f} in {1:.4f} seconds and {2} iterations\".format(rhc_best_fitness, rhc_time, len(rhc_curve)))"
   ],
   "metadata": {
    "collapsed": false,
    "pycharm": {
     "name": "#%%\n"
    }
   }
  },
  {
   "cell_type": "code",
   "execution_count": 41,
   "outputs": [
    {
     "name": "stdout",
     "output_type": "stream",
     "text": [
      "SA best fitness: 120 in 0.1459 seconds and 2131 iterations\n"
     ]
    }
   ],
   "source": [
    "sa_schedule = mr.ExpDecay()\n",
    "start_time = time.perf_counter()\n",
    "sa_best_state, sa_best_fitness, sa_curve = mr.simulated_annealing(problem,\n",
    "                                                                      schedule=sa_schedule,\n",
    "                                                                      max_attempts=1000,\n",
    "                                                                      max_iters=5000,\n",
    "                                                                      curve=True,\n",
    "                                                                      random_state=42)\n",
    "sa_time = time.perf_counter() - start_time\n",
    "print(\"SA best fitness: {0:.0f} in {1:.4f} seconds and {2} iterations\".format(sa_best_fitness, sa_time, len(sa_curve)))"
   ],
   "metadata": {
    "collapsed": false,
    "pycharm": {
     "name": "#%%\n"
    }
   }
  },
  {
   "cell_type": "code",
   "execution_count": 42,
   "outputs": [
    {
     "name": "stdout",
     "output_type": "stream",
     "text": [
      "GA fitness 120 in 18.2630 seconds and 1124 iterations\n"
     ]
    }
   ],
   "source": [
    "ga_max_attempts = 1000\n",
    "ga_max_iters = 5000\n",
    "ga_pop_size = 200\n",
    "ga_mutation_prob = 0.2\n",
    "start_time = time.perf_counter()\n",
    "ga_best_state, ga_best_fitness, ga_curve = mr.genetic_alg(problem,\n",
    "                                                              pop_size=ga_pop_size,\n",
    "                                                              mutation_prob=ga_mutation_prob,\n",
    "                                                              max_attempts=ga_max_attempts,\n",
    "                                                              max_iters=ga_max_iters,\n",
    "                                                              curve=True,\n",
    "                                                              random_state=42)\n",
    "ga_time = time.perf_counter() - start_time\n",
    "print(\"GA fitness {0:.0f} in {1:.4f} seconds and {2} iterations\".format(ga_best_fitness, ga_time, len(ga_curve)))\n",
    "# print('GA best state:\\n', ga_best_state)"
   ],
   "metadata": {
    "collapsed": false,
    "pycharm": {
     "name": "#%%\n"
    }
   }
  },
  {
   "cell_type": "code",
   "execution_count": 43,
   "outputs": [
    {
     "name": "stdout",
     "output_type": "stream",
     "text": [
      "MIMIC fitness 80 in 1834.3890 seconds and 1033 iterations\n"
     ]
    }
   ],
   "source": [
    "#mimic\n",
    "mimic_max_attempts = 1000\n",
    "mimic_max_iters = 5000\n",
    "mimic_pop_size = 200\n",
    "mimic_keep_pct = 0.5\n",
    "start_time = time.perf_counter()\n",
    "mimic_best_state, mimic_best_fitness, mimic_curve = mr.mimic(problem,\n",
    "                                                                 pop_size=mimic_pop_size,\n",
    "                                                                 keep_pct=mimic_keep_pct,\n",
    "                                                                 max_attempts=mimic_max_attempts,\n",
    "                                                                 max_iters=mimic_max_iters,\n",
    "                                                                 curve=True,\n",
    "                                                                 random_state=42)\n",
    "mimic_time = time.perf_counter() - start_time\n",
    "print(\"MIMIC fitness {0:.0f} in {1:.4f} seconds and {2} iterations\".format(mimic_best_fitness, mimic_time, len(mimic_curve)))\n"
   ],
   "metadata": {
    "collapsed": false,
    "pycharm": {
     "name": "#%%\n"
    }
   }
  },
  {
   "cell_type": "code",
   "execution_count": 44,
   "outputs": [],
   "source": [
    "df = pd.DataFrame({'RHC':[x[0] for x in rhc_curve[:1000]],\n",
    "                   'SA': [x[0] for x in sa_curve[:1000]],\n",
    "                   'GA': [x[0] for x in ga_curve[:1000]],\n",
    "                   'MIMIC': [x[0] for x in mimic_curve[:1000]]})"
   ],
   "metadata": {
    "collapsed": false,
    "pycharm": {
     "name": "#%%\n"
    }
   }
  },
  {
   "cell_type": "code",
   "execution_count": 63,
   "outputs": [
    {
     "data": {
      "text/plain": "<matplotlib.legend.Legend at 0x7fe9b82dda20>"
     },
     "execution_count": 63,
     "metadata": {},
     "output_type": "execute_result"
    },
    {
     "data": {
      "text/plain": "<Figure size 432x288 with 1 Axes>",
      "image/png": "[encoded data removed]"
     },
     "metadata": {},
     "output_type": "display_data"
    }
   ],
   "source": [
    "ax = df.plot(title = 'Four Peaks Problem')\n",
    "ax.set_xlabel(\"Iterations\")\n",
    "ax.set_ylabel(\"Fitness\")\n",
    "ax.legend(loc = 'lower right')\n"
   ],
   "metadata": {
    "collapsed": false,
    "pycharm": {
     "name": "#%%\n"
    }
   }
  },
  {
   "cell_type": "code",
   "execution_count": null,
   "outputs": [],
   "source": [],
   "metadata": {
    "collapsed": false,
    "pycharm": {
     "name": "#%%\n"
    }
   }
  }
 ],
 "metadata": {
  "kernelspec": {
   "display_name": "Python 3",
   "language": "python",
   "name": "python3"
  },
  "language_info": {
   "codemirror_mode": {
    "name": "ipython",
    "version": 2
   },
   "file_extension": ".py",
   "mimetype": "text/x-python",
   "name": "python",
   "nbconvert_exporter": "python",
   "pygments_lexer": "ipython2",
   "version": "2.7.6"
  }
 },
 "nbformat": 4,
 "nbformat_minor": 0
}