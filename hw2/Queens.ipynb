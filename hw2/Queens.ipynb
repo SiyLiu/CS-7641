{
 "cells": [
  {
   "cell_type": "code",
   "execution_count": 48,
   "metadata": {
    "collapsed": true
   },
   "outputs": [],
   "source": [
    "import mlrose_hiive as mr\n",
    "from mlrose_hiive.decorators import short_name\n",
    "import pandas as pd\n",
    "import numpy as np\n",
    "import seaborn as sns\n",
    "import matplotlib.pyplot as plt\n",
    "import time\n",
    "sns.set_style(\"whitegrid\")"
   ]
  },
  {
   "cell_type": "code",
   "execution_count": null,
   "outputs": [],
   "source": [],
   "metadata": {
    "collapsed": false,
    "pycharm": {
     "name": "#%%\n"
    }
   }
  },
  {
   "cell_type": "code",
   "execution_count": 18,
   "outputs": [],
   "source": [
    "#Queen\n",
    "#define\n",
    "def fitness_max(state):\n",
    "    attacks_list = []\n",
    "    for i in range(len(state)-1):\n",
    "        for j in range(i+1, len(state)):\n",
    "            # check for attacking pairs\n",
    "            if (state[j] ==  state[i]) \\\n",
    "                or (state[j] == state[i] + (j-i)) \\\n",
    "                or (state[j] == state[i] - (j-i)):\n",
    "                attacks_list+=[i,j]\n",
    "    fitness_cnt = len(state) - len(set(attacks_list))\n",
    "\n",
    "    return fitness_cnt"
   ],
   "metadata": {
    "collapsed": false,
    "pycharm": {
     "name": "#%%\n"
    }
   }
  },
  {
   "cell_type": "code",
   "execution_count": 19,
   "outputs": [],
   "source": [
    "fitness_cust = mr.CustomFitness(fitness_max)"
   ],
   "metadata": {
    "collapsed": false,
    "pycharm": {
     "name": "#%%\n"
    }
   }
  },
  {
   "cell_type": "code",
   "execution_count": 20,
   "outputs": [],
   "source": [
    "problem = mr.DiscreteOpt(length = 64,\n",
    "                         fitness_fn = fitness_cust,\n",
    "                         maximize = True,\n",
    "                         max_val = 64)"
   ],
   "metadata": {
    "collapsed": false,
    "pycharm": {
     "name": "#%%\n"
    }
   }
  },
  {
   "cell_type": "code",
   "execution_count": 37,
   "outputs": [
    {
     "name": "stdout",
     "output_type": "stream",
     "text": [
      "RHC best fitness: 47 in 16.3864 seconds and 1000 iterations\n"
     ]
    }
   ],
   "source": [
    "start_time = time.perf_counter()\n",
    "rhc_best_state, rhc_best_fitness, rhc_curve = mr.random_hill_climb(problem = problem,\n",
    "                           max_attempts = 1000,\n",
    "                           curve = True,\n",
    "                           random_state = 42,\n",
    "                           restarts = 5,\n",
    "                           max_iters=1000\n",
    "                           )\n",
    "rhc_time = time.perf_counter() - start_time\n",
    "print(\"RHC best fitness: {0:.0f} in {1:.4f} seconds and {2} iterations\".format(rhc_best_fitness, rhc_time, len(rhc_curve)))"
   ],
   "metadata": {
    "collapsed": false,
    "pycharm": {
     "name": "#%%\n"
    }
   }
  },
  {
   "cell_type": "markdown",
   "source": [
    "try different schedule and number of iterations"
   ],
   "metadata": {
    "collapsed": false,
    "pycharm": {
     "name": "#%% md\n"
    }
   },
   "outputs": [
    {
     "ename": "SyntaxError",
     "evalue": "invalid syntax (<ipython-input-16-887bfe6001a8>, line 1)",
     "output_type": "error",
     "traceback": [
      "\u001B[0;36m  File \u001B[0;32m\"<ipython-input-16-887bfe6001a8>\"\u001B[0;36m, line \u001B[0;32m1\u001B[0m\n\u001B[0;31m    try different\u001B[0m\n\u001B[0m                ^\u001B[0m\n\u001B[0;31mSyntaxError\u001B[0m\u001B[0;31m:\u001B[0m invalid syntax\n"
     ]
    }
   ],
   "execution_count": 16
  },
  {
   "cell_type": "code",
   "execution_count": 44,
   "outputs": [],
   "source": [
    "sa_schedule = mr.ExpDecay()\n",
    "start_time = time.perf_counter()\n",
    "sa_best_state, sa_best_fitness, sa_curve = mr.simulated_annealing(problem,\n",
    "                                                                      schedule=sa_schedule,\n",
    "                                                                      max_attempts=1000,\n",
    "                                                                      max_iters=1000,\n",
    "                                                                      curve=True,\n",
    "                                                                      random_state=42)\n",
    "sa_time = time.perf_counter() - start_time\n",
    "print(\"SA best fitness: {0:.0f} in {1:.4f} seconds and {2} iterations\".format(sa_best_fitness, sa_time, len(sa_curve)))"
   ],
   "metadata": {
    "collapsed": false,
    "pycharm": {
     "name": "#%%\n"
    }
   }
  },
  {
   "cell_type": "code",
   "execution_count": null,
   "outputs": [],
   "source": [
    "# ga\n",
    "ga_max_attempts = 1000\n",
    "ga_max_iters = 1000\n",
    "ga_pop_size = 200\n",
    "ga_mutation_prob = 0.2\n",
    "start_time = time.perf_counter()\n",
    "ga_best_state, ga_best_fitness, ga_curve = mr.genetic_alg(problem,\n",
    "                                                              pop_size=ga_pop_size,\n",
    "                                                              mutation_prob=ga_mutation_prob,\n",
    "                                                              max_attempts=ga_max_attempts,\n",
    "                                                              max_iters=ga_max_iters,\n",
    "                                                              curve=True,\n",
    "                                                              random_state=42)\n",
    "ga_time = time.perf_counter() - start_time\n",
    "print(\"GA fitness {0:.0f} in {1:.4f} seconds and {2} iterations\".format(ga_best_fitness, ga_time, len(ga_curve)))\n",
    "# print('GA best state:\\n', ga_best_state)"
   ],
   "metadata": {
    "collapsed": false,
    "pycharm": {
     "name": "#%%\n"
    }
   }
  },
  {
   "cell_type": "code",
   "execution_count": 35,
   "outputs": [
    {
     "name": "stdout",
     "output_type": "stream",
     "text": [
      "MIMIC fitness 16 in 2552.7532 seconds and 1000 iterations\n"
     ]
    }
   ],
   "source": [
    "#mimic\n",
    "mimic_max_attempts = 1000\n",
    "mimic_max_iters = 1000\n",
    "mimic_pop_size = 200\n",
    "mimic_keep_pct = 0.5\n",
    "start_time = time.perf_counter()\n",
    "mimic_best_state, mimic_best_fitness, mimic_curve = mr.mimic(problem,\n",
    "                                                                 pop_size=mimic_pop_size,\n",
    "                                                                 keep_pct=mimic_keep_pct,\n",
    "                                                                 max_attempts=mimic_max_attempts,\n",
    "                                                                 max_iters=mimic_max_iters,\n",
    "                                                                 curve=True,\n",
    "                                                                 random_state=42,\n",
    "                                                                 )\n",
    "mimic_time = time.perf_counter() - start_time\n",
    "print(\"MIMIC fitness {0:.0f} in {1:.4f} seconds and {2} iterations\".format(mimic_best_fitness, mimic_time, len(mimic_curve)))"
   ],
   "metadata": {
    "collapsed": false,
    "pycharm": {
     "name": "#%%\n"
    }
   }
  },
  {
   "cell_type": "code",
   "execution_count": 49,
   "outputs": [],
   "source": [
    "df = pd.DataFrame({'RHC':[x[0] for x in rhc_curve],\n",
    "                   'SA': [x[0] for x in sa_curve],\n",
    "                   'GA': [x[0] for x in ga_curve],\n",
    "                   'MIMIC': [x[0] for x in mimic_curve]})\n"
   ],
   "metadata": {
    "collapsed": false,
    "pycharm": {
     "name": "#%%\n"
    }
   }
  },
  {
   "cell_type": "code",
   "execution_count": 53,
   "outputs": [
    {
     "data": {
      "text/plain": "Text(0, 0.5, 'Fitness')"
     },
     "execution_count": 53,
     "metadata": {},
     "output_type": "execute_result"
    },
    {
     "data": {
      "text/plain": "<Figure size 432x288 with 1 Axes>",
      "image/png": "[encoded data removed]"
     },
     "metadata": {},
     "output_type": "display_data"
    }
   ],
   "source": [
    "ax = df.plot(title = 'Queen Problem')\n",
    "ax.set_xlabel('Iterations')\n",
    "ax.set_ylabel('Fitness')"
   ],
   "metadata": {
    "collapsed": false,
    "pycharm": {
     "name": "#%%\n"
    }
   }
  },
  {
   "cell_type": "code",
   "execution_count": 80,
   "outputs": [],
   "source": [
    "sa_schedule = mr.ExpDecay()\n",
    "curves = []\n",
    "timer = []\n",
    "for i in (1000,5000, 10000):\n",
    "    start_time = time.perf_counter()\n",
    "    sa_best_state, sa_best_fitness, sa_curve = mr.simulated_annealing(problem,\n",
    "                                                                          schedule=sa_schedule,\n",
    "                                                                          max_attempts=1000,\n",
    "                                                                          max_iters=i,\n",
    "                                                                          curve=True,\n",
    "                                                                          random_state=None)\n",
    "    curves.append([x[0] for x in sa_curve])\n",
    "    sa_time = time.perf_counter() - start_time\n",
    "    timer.append(sa_time)\n"
   ],
   "metadata": {
    "collapsed": false,
    "pycharm": {
     "name": "#%%\n"
    }
   }
  },
  {
   "cell_type": "code",
   "execution_count": 81,
   "outputs": [],
   "source": [
    "df = pd.DataFrame({\n",
    "    'iter_1000': curves[0] + (10000-1000) * [None] ,\n",
    "    'iter_5000': curves[1] + (10000-5000) * [None],\n",
    "    'iter_10000':curves[2]\n",
    "})"
   ],
   "metadata": {
    "collapsed": false,
    "pycharm": {
     "name": "#%%\n"
    }
   }
  },
  {
   "cell_type": "code",
   "execution_count": 83,
   "outputs": [
    {
     "data": {
      "text/plain": "[3.46978842200042, 13.387116580999646, 28.42596470799981]"
     },
     "execution_count": 83,
     "metadata": {},
     "output_type": "execute_result"
    }
   ],
   "source": [
    "timer"
   ],
   "metadata": {
    "collapsed": false,
    "pycharm": {
     "name": "#%%\n"
    }
   }
  },
  {
   "cell_type": "code",
   "execution_count": 87,
   "outputs": [
    {
     "data": {
      "text/plain": "Text(0, 0.5, 'Fitness')"
     },
     "execution_count": 87,
     "metadata": {},
     "output_type": "execute_result"
    },
    {
     "data": {
      "text/plain": "<Figure size 432x288 with 1 Axes>",
      "image/png": "[encoded data removed]"
     },
     "metadata": {},
     "output_type": "display_data"
    }
   ],
   "source": [
    "ax = df.plot(title = 'Knapsack problem with SA \\n'\n",
    "                     '(1000, 5000, and 10000 Iterations)')\n",
    "ax.set_xlabel('Iterations')\n",
    "ax.set_ylabel('Fitness')"
   ],
   "metadata": {
    "collapsed": false,
    "pycharm": {
     "name": "#%%\n"
    }
   }
  },
  {
   "cell_type": "code",
   "execution_count": 84,
   "outputs": [],
   "source": [],
   "metadata": {
    "collapsed": false,
    "pycharm": {
     "name": "#%%\n"
    }
   }
  },
  {
   "cell_type": "code",
   "execution_count": null,
   "outputs": [],
   "source": [],
   "metadata": {
    "collapsed": false,
    "pycharm": {
     "name": "#%%\n"
    }
   }
  }
 ],
 "metadata": {
  "kernelspec": {
   "display_name": "Python 3",
   "language": "python",
   "name": "python3"
  },
  "language_info": {
   "codemirror_mode": {
    "name": "ipython",
    "version": 2
   },
   "file_extension": ".py",
   "mimetype": "text/x-python",
   "name": "python",
   "nbconvert_exporter": "python",
   "pygments_lexer": "ipython2",
   "version": "2.7.6"
  }
 },
 "nbformat": 4,
 "nbformat_minor": 0
}