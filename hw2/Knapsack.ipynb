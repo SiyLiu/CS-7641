{
 "cells": [
  {
   "cell_type": "code",
   "execution_count": 55,
   "metadata": {
    "collapsed": true
   },
   "outputs": [],
   "source": []
  },
  {
   "cell_type": "code",
   "execution_count": 94,
   "outputs": [],
   "source": [
    "import mlrose_hiive as mr\n",
    "from mlrose_hiive.decorators import short_name\n",
    "import pandas as pd\n",
    "import numpy as np\n",
    "import seaborn as sns\n",
    "import matplotlib.pyplot as plt\n",
    "import time\n",
    "sns.set_style(\"whitegrid\")"
   ],
   "metadata": {
    "collapsed": false,
    "pycharm": {
     "name": "#%%\n"
    }
   }
  },
  {
   "cell_type": "code",
   "execution_count": 57,
   "outputs": [],
   "source": [
    "#package\n",
    "#define"
   ],
   "metadata": {
    "collapsed": false,
    "pycharm": {
     "name": "#%%\n"
    }
   }
  },
  {
   "cell_type": "code",
   "execution_count": 82,
   "outputs": [
    {
     "name": "stdout",
     "output_type": "stream",
     "text": [
      "[31 32 97 91 98 55 80 67 58  7]\n",
      "[94 19 83  3 64 67 21 15 29 99]\n",
      "0.58\n"
     ]
    }
   ],
   "source": [
    "np.random.seed()\n",
    "weight = np.random.randint(1,100, size =10)\n",
    "value = np.random.randint(1,100, size = 10)\n",
    "maximum_pct = round(np.random.random(),2)\n",
    "print(weight)\n",
    "print(value)\n",
    "print(maximum_pct)"
   ],
   "metadata": {
    "collapsed": false,
    "pycharm": {
     "name": "#%%\n"
    }
   }
  },
  {
   "cell_type": "code",
   "execution_count": 83,
   "outputs": [],
   "source": [
    "k_fitness = mr.Knapsack(weight, value, maximum_pct)"
   ],
   "metadata": {
    "collapsed": false,
    "pycharm": {
     "name": "#%%\n"
    }
   }
  },
  {
   "cell_type": "code",
   "execution_count": 84,
   "outputs": [],
   "source": [
    "problem = mr.DiscreteOpt(length = 10,\n",
    "                         fitness_fn = k_fitness,\n",
    "                         maximize = True,\n",
    "                         max_val = 2)"
   ],
   "metadata": {
    "collapsed": false,
    "pycharm": {
     "name": "#%%\n"
    }
   }
  },
  {
   "cell_type": "code",
   "execution_count": 85,
   "outputs": [
    {
     "name": "stdout",
     "output_type": "stream",
     "text": [
      "RHC best fitness: 426 in 2.9227 seconds and 1005 iterations\n"
     ]
    }
   ],
   "source": [
    "start_time = time.perf_counter()\n",
    "rhc_best_state, rhc_best_fitness, rhc_curve = mr.random_hill_climb(problem = problem,\n",
    "                           max_attempts = 1000,\n",
    "                           curve = True,\n",
    "                           random_state = 42,\n",
    "                           restarts = 100,\n",
    "                           max_iters=5000\n",
    "                           )\n",
    "rhc_time = time.perf_counter() - start_time\n",
    "print(\"RHC best fitness: {0:.0f} in {1:.4f} seconds and {2} iterations\".format(rhc_best_fitness, rhc_time, len(rhc_curve)))"
   ],
   "metadata": {
    "collapsed": false,
    "pycharm": {
     "name": "#%%\n"
    }
   }
  },
  {
   "cell_type": "markdown",
   "source": [
    "try different schedule and number of iterations"
   ],
   "metadata": {
    "collapsed": false
   }
  },
  {
   "cell_type": "code",
   "execution_count": 86,
   "outputs": [
    {
     "name": "stdout",
     "output_type": "stream",
     "text": [
      "SA best fitness: 304 in 0.0369 seconds and 1003 iterations\n"
     ]
    }
   ],
   "source": [
    "sa_schedule = mr.ExpDecay()\n",
    "start_time = time.perf_counter()\n",
    "sa_best_state, sa_best_fitness, sa_curve = mr.simulated_annealing(problem,\n",
    "                                                                      schedule=sa_schedule,\n",
    "                                                                      max_attempts=1000,\n",
    "                                                                      max_iters=5000,\n",
    "                                                                      curve=True,\n",
    "                                                                      random_state=42)\n",
    "sa_time = time.perf_counter() - start_time\n",
    "print(\"SA best fitness: {0:.0f} in {1:.4f} seconds and {2} iterations\".format(sa_best_fitness, sa_time, len(sa_curve)))"
   ],
   "metadata": {
    "collapsed": false,
    "pycharm": {
     "name": "#%%\n"
    }
   }
  },
  {
   "cell_type": "code",
   "execution_count": 89,
   "outputs": [
    {
     "name": "stdout",
     "output_type": "stream",
     "text": [
      "GA fitness 436 in 3.5658 seconds and 1008 iterations\n"
     ]
    }
   ],
   "source": [
    "# ga\n",
    "ga_max_attempts = 1000\n",
    "ga_max_iters = 5000\n",
    "ga_pop_size = 50\n",
    "ga_mutation_prob = 0.2\n",
    "start_time = time.perf_counter()\n",
    "ga_best_state, ga_best_fitness, ga_curve = mr.genetic_alg(problem,\n",
    "                                                              pop_size=ga_pop_size,\n",
    "                                                              mutation_prob=ga_mutation_prob,\n",
    "                                                              max_attempts=ga_max_attempts,\n",
    "                                                              max_iters=ga_max_iters,\n",
    "                                                              curve=True,\n",
    "                                                              random_state=42)\n",
    "ga_time = time.perf_counter() - start_time\n",
    "print(\"GA fitness {0:.0f} in {1:.4f} seconds and {2} iterations\".format(ga_best_fitness, ga_time, len(ga_curve)))\n",
    "# print('GA best state:\\n', ga_best_state)"
   ],
   "metadata": {
    "collapsed": false,
    "pycharm": {
     "name": "#%%\n"
    }
   }
  },
  {
   "cell_type": "code",
   "execution_count": 88,
   "outputs": [
    {
     "name": "stdout",
     "output_type": "stream",
     "text": [
      "MIMIC fitness 436 in 47.4616 seconds and 1002 iterations\n"
     ]
    }
   ],
   "source": [
    "#mimic\n",
    "mimic_max_attempts = 1000\n",
    "mimic_max_iters = 5000\n",
    "mimic_pop_size = 200\n",
    "mimic_keep_pct = 0.3\n",
    "start_time = time.perf_counter()\n",
    "mimic_best_state, mimic_best_fitness, mimic_curve = mr.mimic(problem,\n",
    "                                                                 pop_size=mimic_pop_size,\n",
    "                                                                 keep_pct=mimic_keep_pct,\n",
    "                                                                 max_attempts=mimic_max_attempts,\n",
    "                                                                 max_iters=mimic_max_iters,\n",
    "                                                                 curve=True,\n",
    "                                                                 random_state=42,\n",
    "                                                                 )\n",
    "mimic_time = time.perf_counter() - start_time\n",
    "print(\"MIMIC fitness {0:.0f} in {1:.4f} seconds and {2} iterations\".format(mimic_best_fitness, mimic_time, len(mimic_curve)))"
   ],
   "metadata": {
    "collapsed": false,
    "pycharm": {
     "name": "#%%\n"
    }
   }
  },
  {
   "cell_type": "code",
   "execution_count": 92,
   "outputs": [],
   "source": [
    "df = pd.DataFrame({'RHC':[x[0] for x in rhc_curve[:50]],\n",
    "                   'SA': [x[0] for x in sa_curve[:50]],\n",
    "                   'GA': [x[0] for x in ga_curve[:50]],\n",
    "                   'MIMIC': [x[0] for x in mimic_curve[:50]]})"
   ],
   "metadata": {
    "collapsed": false,
    "pycharm": {
     "name": "#%%\n"
    }
   }
  },
  {
   "cell_type": "code",
   "execution_count": 97,
   "outputs": [
    {
     "data": {
      "text/plain": "Text(0, 0.5, 'Fitness')"
     },
     "execution_count": 97,
     "metadata": {},
     "output_type": "execute_result"
    },
    {
     "data": {
      "text/plain": "<Figure size 432x288 with 1 Axes>",
      "image/png": "[encoded data removed]"
     },
     "metadata": {},
     "output_type": "display_data"
    }
   ],
   "source": [
    "ax = df.plot(title = 'Knapsack Problem')\n",
    "ax.set_xlabel('Iterations')\n",
    "ax.set_ylabel('Fitness')"
   ],
   "metadata": {
    "collapsed": false,
    "pycharm": {
     "name": "#%%\n"
    }
   }
  },
  {
   "cell_type": "code",
   "execution_count": null,
   "outputs": [],
   "source": [],
   "metadata": {
    "collapsed": false,
    "pycharm": {
     "name": "#%%\n"
    }
   }
  }
 ],
 "metadata": {
  "kernelspec": {
   "display_name": "Python 3",
   "language": "python",
   "name": "python3"
  },
  "language_info": {
   "codemirror_mode": {
    "name": "ipython",
    "version": 2
   },
   "file_extension": ".py",
   "mimetype": "text/x-python",
   "name": "python",
   "nbconvert_exporter": "python",
   "pygments_lexer": "ipython2",
   "version": "2.7.6"
  }
 },
 "nbformat": 4,
 "nbformat_minor": 0
}