{
 "cells": [
  {
   "cell_type": "code",
   "execution_count": null,
   "metadata": {
    "collapsed": true
   },
   "outputs": [],
   "source": []
  },
  {
   "cell_type": "code",
   "execution_count": 1,
   "outputs": [],
   "source": [
    "from hiive.mdptoolbox.mdp import ValueIteration, PolicyIteration, QLearning\n",
    "from hiive.mdptoolbox.example import forest\n",
    "from hiive.mdptoolbox import mdp\n",
    "from hiive.mdptoolbox import util\n",
    "import gym\n",
    "import numpy as np\n",
    "import sys\n",
    "import os\n",
    "from numpy.random import choice\n",
    "import pandas as pd\n",
    "import seaborn as sns\n",
    "np.random.seed(44)"
   ],
   "metadata": {
    "collapsed": false,
    "pycharm": {
     "name": "#%%\n"
    }
   }
  },
  {
   "cell_type": "code",
   "execution_count": 3,
   "outputs": [],
   "source": [
    "def test_policy(P, R, policy, test_count=1000, gamma=0.9):\n",
    "    num_state = P.shape[-1]\n",
    "    total_episode = num_state * test_count\n",
    "    # start in each state\n",
    "    total_reward = 0\n",
    "    for state in range(num_state):\n",
    "        state_reward = 0\n",
    "        for state_episode in range(test_count):\n",
    "            episode_reward = 0\n",
    "            disc_rate = 1\n",
    "            while True:\n",
    "                # take step\n",
    "                action = policy[state]\n",
    "                # get next step using P\n",
    "                probs = P[action][state]\n",
    "                candidates = list(range(len(P[action][state])))\n",
    "                next_state =  choice(candidates, 1, p=probs)[0]\n",
    "                # get the reward\n",
    "                reward = R[state][action] * disc_rate\n",
    "                episode_reward += reward\n",
    "                # when go back to 0 ended\n",
    "                disc_rate *= gamma\n",
    "                if next_state == 0:\n",
    "                    break\n",
    "            state_reward += episode_reward\n",
    "        total_reward += state_reward\n",
    "    return total_reward / total_episode"
   ],
   "metadata": {
    "collapsed": false,
    "pycharm": {
     "name": "#%%\n"
    }
   }
  },
  {
   "cell_type": "code",
   "execution_count": 4,
   "outputs": [],
   "source": [
    "def grid_search_VI(P, R, discount=0.9, epsilon=[1e-9]):\n",
    "    vi_df = pd.DataFrame(columns=[\"Epsilon\", \"Policy\", \"Iteration\",\n",
    "                                  \"Time\", \"Reward\", \"Value Function\"])\n",
    "    for eps in epsilon:\n",
    "        vi = ValueIteration(P, R, gamma=discount, epsilon=eps, max_iter=int(1e15))\n",
    "        vi.run()\n",
    "        reward = test_policy(P, R, vi.policy)\n",
    "        info = [float(eps), vi.policy, vi.iter, vi.time, reward, vi.V]\n",
    "        df_length = len(vi_df)\n",
    "        vi_df.loc[df_length] = info\n",
    "    return vi_df"
   ],
   "metadata": {
    "collapsed": false,
    "pycharm": {
     "name": "#%%\n"
    }
   }
  },
  {
   "cell_type": "markdown",
   "source": [
    "Value Iteration"
   ],
   "metadata": {
    "collapsed": false
   }
  },
  {
   "cell_type": "code",
   "execution_count": 6,
   "outputs": [],
   "source": [
    "P,R = forest(400, r1 = 100, r2 = 20, p = 0.1)\n",
    "fm_400_vi = grid_search_VI(P, R, discount = 0.9, epsilon = [1e-3, 1e-4, 1e-5, 1e-6, 1e-7, 1e-8, 1e-9])"
   ],
   "metadata": {
    "collapsed": false,
    "pycharm": {
     "name": "#%%\n"
    }
   }
  },
  {
   "cell_type": "code",
   "execution_count": 7,
   "outputs": [
    {
     "data": {
      "text/plain": "        Epsilon                                             Policy Iteration  \\\n0  1.000000e-03  (0, 1, 1, 1, 1, 1, 1, 1, 1, 1, 1, 1, 1, 1, 1, ...        66   \n1  1.000000e-04  (0, 1, 1, 1, 1, 1, 1, 1, 1, 1, 1, 1, 1, 1, 1, ...        76   \n2  1.000000e-05  (0, 1, 1, 1, 1, 1, 1, 1, 1, 1, 1, 1, 1, 1, 1, ...        87   \n3  1.000000e-06  (0, 1, 1, 1, 1, 1, 1, 1, 1, 1, 1, 1, 1, 1, 1, ...        98   \n4  1.000000e-07  (0, 1, 1, 1, 1, 1, 1, 1, 1, 1, 1, 1, 1, 1, 1, ...       109   \n5  1.000000e-08  (0, 1, 1, 1, 1, 1, 1, 1, 1, 1, 1, 1, 1, 1, 1, ...       120   \n6  1.000000e-09  (0, 1, 1, 1, 1, 1, 1, 1, 1, 1, 1, 1, 1, 1, 1, ...       131   \n\n       Time    Reward                                     Value Function  \n0  0.048837  2.205296  (4.4706146525683454, 5.023100336527209, 5.0231...  \n1  0.007672  2.267714  (4.473560831234312, 5.026046957818786, 5.02604...  \n2  0.014224  2.269377  (4.474643139169861, 5.027129333047953, 5.02712...  \n3  0.014509  2.239972  (4.47498279201032, 5.027468979261533, 5.027468...  \n4  0.099923  2.232036  (4.475089377376456, 5.027575565280265, 5.02757...  \n5  0.017961  2.271127  (4.475122825121185, 5.027609012960728, 5.02760...  \n6  0.017960  2.256289  (4.475133321365347, 5.027619509211218, 5.02761...  ",
      "text/html": "<div>\n<style scoped>\n    .dataframe tbody tr th:only-of-type {\n        vertical-align: middle;\n    }\n\n    .dataframe tbody tr th {\n        vertical-align: top;\n    }\n\n    .dataframe thead th {\n        text-align: right;\n    }\n</style>\n<table border=\"1\" class=\"dataframe\">\n  <thead>\n    <tr style=\"text-align: right;\">\n      <th></th>\n      <th>Epsilon</th>\n      <th>Policy</th>\n      <th>Iteration</th>\n      <th>Time</th>\n      <th>Reward</th>\n      <th>Value Function</th>\n    </tr>\n  </thead>\n  <tbody>\n    <tr>\n      <th>0</th>\n      <td>1.000000e-03</td>\n      <td>(0, 1, 1, 1, 1, 1, 1, 1, 1, 1, 1, 1, 1, 1, 1, ...</td>\n      <td>66</td>\n      <td>0.048837</td>\n      <td>2.205296</td>\n      <td>(4.4706146525683454, 5.023100336527209, 5.0231...</td>\n    </tr>\n    <tr>\n      <th>1</th>\n      <td>1.000000e-04</td>\n      <td>(0, 1, 1, 1, 1, 1, 1, 1, 1, 1, 1, 1, 1, 1, 1, ...</td>\n      <td>76</td>\n      <td>0.007672</td>\n      <td>2.267714</td>\n      <td>(4.473560831234312, 5.026046957818786, 5.02604...</td>\n    </tr>\n    <tr>\n      <th>2</th>\n      <td>1.000000e-05</td>\n      <td>(0, 1, 1, 1, 1, 1, 1, 1, 1, 1, 1, 1, 1, 1, 1, ...</td>\n      <td>87</td>\n      <td>0.014224</td>\n      <td>2.269377</td>\n      <td>(4.474643139169861, 5.027129333047953, 5.02712...</td>\n    </tr>\n    <tr>\n      <th>3</th>\n      <td>1.000000e-06</td>\n      <td>(0, 1, 1, 1, 1, 1, 1, 1, 1, 1, 1, 1, 1, 1, 1, ...</td>\n      <td>98</td>\n      <td>0.014509</td>\n      <td>2.239972</td>\n      <td>(4.47498279201032, 5.027468979261533, 5.027468...</td>\n    </tr>\n    <tr>\n      <th>4</th>\n      <td>1.000000e-07</td>\n      <td>(0, 1, 1, 1, 1, 1, 1, 1, 1, 1, 1, 1, 1, 1, 1, ...</td>\n      <td>109</td>\n      <td>0.099923</td>\n      <td>2.232036</td>\n      <td>(4.475089377376456, 5.027575565280265, 5.02757...</td>\n    </tr>\n    <tr>\n      <th>5</th>\n      <td>1.000000e-08</td>\n      <td>(0, 1, 1, 1, 1, 1, 1, 1, 1, 1, 1, 1, 1, 1, 1, ...</td>\n      <td>120</td>\n      <td>0.017961</td>\n      <td>2.271127</td>\n      <td>(4.475122825121185, 5.027609012960728, 5.02760...</td>\n    </tr>\n    <tr>\n      <th>6</th>\n      <td>1.000000e-09</td>\n      <td>(0, 1, 1, 1, 1, 1, 1, 1, 1, 1, 1, 1, 1, 1, 1, ...</td>\n      <td>131</td>\n      <td>0.017960</td>\n      <td>2.256289</td>\n      <td>(4.475133321365347, 5.027619509211218, 5.02761...</td>\n    </tr>\n  </tbody>\n</table>\n</div>"
     },
     "execution_count": 7,
     "metadata": {},
     "output_type": "execute_result"
    }
   ],
   "source": [
    "fm_400_vi"
   ],
   "metadata": {
    "collapsed": false,
    "pycharm": {
     "name": "#%%\n"
    }
   }
  },
  {
   "cell_type": "code",
   "execution_count": 13,
   "outputs": [
    {
     "data": {
      "text/plain": "1"
     },
     "execution_count": 13,
     "metadata": {},
     "output_type": "execute_result"
    }
   ],
   "source": [
    "fm_400_vi.Policy.nunique()"
   ],
   "metadata": {
    "collapsed": false,
    "pycharm": {
     "name": "#%%\n"
    }
   }
  },
  {
   "cell_type": "code",
   "execution_count": 14,
   "outputs": [
    {
     "data": {
      "text/plain": "array([(0, 1, 1, 1, 1, 1, 1, 1, 1, 1, 1, 1, 1, 1, 1, 1, 1, 1, 1, 1, 1, 1, 1, 1, 1, 1, 1, 1, 1, 1, 1, 1, 1, 1, 1, 1, 1, 1, 1, 1, 1, 1, 1, 1, 1, 1, 1, 1, 1, 1, 1, 1, 1, 1, 1, 1, 1, 1, 1, 1, 1, 1, 1, 1, 1, 1, 1, 1, 1, 1, 1, 1, 1, 1, 1, 1, 1, 1, 1, 1, 1, 1, 1, 1, 1, 1, 1, 1, 1, 1, 1, 1, 1, 1, 1, 1, 1, 1, 1, 1, 1, 1, 1, 1, 1, 1, 1, 1, 1, 1, 1, 1, 1, 1, 1, 1, 1, 1, 1, 1, 1, 1, 1, 1, 1, 1, 1, 1, 1, 1, 1, 1, 1, 1, 1, 1, 1, 1, 1, 1, 1, 1, 1, 1, 1, 1, 1, 1, 1, 1, 1, 1, 1, 1, 1, 1, 1, 1, 1, 1, 1, 1, 1, 1, 1, 1, 1, 1, 1, 1, 1, 1, 1, 1, 1, 1, 1, 1, 1, 1, 1, 1, 1, 1, 1, 1, 1, 1, 1, 1, 1, 1, 1, 1, 1, 1, 1, 1, 1, 1, 1, 1, 1, 1, 1, 1, 1, 1, 1, 1, 1, 1, 1, 1, 1, 1, 1, 1, 1, 1, 1, 1, 1, 1, 1, 1, 1, 1, 1, 1, 1, 1, 1, 1, 1, 1, 1, 1, 1, 1, 1, 1, 1, 1, 1, 1, 1, 1, 1, 1, 1, 1, 1, 1, 1, 1, 1, 1, 1, 1, 1, 1, 1, 1, 1, 1, 1, 1, 1, 1, 1, 1, 1, 1, 1, 1, 1, 1, 1, 1, 1, 1, 1, 1, 1, 1, 1, 1, 1, 1, 1, 1, 1, 1, 1, 1, 1, 1, 1, 1, 1, 1, 1, 1, 1, 1, 1, 1, 1, 1, 1, 1, 1, 1, 1, 1, 1, 1, 1, 1, 1, 1, 1, 1, 1, 1, 1, 1, 1, 1, 1, 1, 1, 1, 1, 1, 1, 1, 1, 1, 1, 1, 1, 1, 1, 1, 1, 1, 1, 1, 1, 1, 1, 1, 1, 1, 1, 1, 1, 1, 1, 1, 1, 1, 1, 1, 1, 1, 1, 1, 1, 1, 1, 1, 1, 0, 0, 0, 0, 0, 0, 0, 0, 0, 0, 0, 0, 0, 0, 0, 0, 0, 0, 0, 0, 0, 0, 0, 0, 0)],\n      dtype=object)"
     },
     "execution_count": 14,
     "metadata": {},
     "output_type": "execute_result"
    }
   ],
   "source": [
    "fm_400_vi.Policy.unique()"
   ],
   "metadata": {
    "collapsed": false,
    "pycharm": {
     "name": "#%%\n"
    }
   }
  },
  {
   "cell_type": "markdown",
   "source": [
    "Policy Iteration"
   ],
   "metadata": {
    "collapsed": false
   }
  },
  {
   "cell_type": "code",
   "execution_count": 10,
   "outputs": [
    {
     "data": {
      "text/plain": "(25, 0.2506129741668701, 2.2402734536534465)"
     },
     "execution_count": 10,
     "metadata": {},
     "output_type": "execute_result"
    }
   ],
   "source": [
    "pi = PolicyIteration(P, R, gamma=0.9, max_iter=1e6)\n",
    "pi.run()\n",
    "pi_pol = pi.policy\n",
    "pi_reward = test_policy(P, R, pi_pol)\n",
    "pi_iter = pi.iter\n",
    "pi_time = pi.time\n",
    "pi_iter, pi_time, pi_reward"
   ],
   "metadata": {
    "collapsed": false,
    "pycharm": {
     "name": "#%%\n"
    }
   }
  },
  {
   "cell_type": "markdown",
   "source": [
    "Q-Learning"
   ],
   "metadata": {
    "collapsed": false
   }
  },
  {
   "cell_type": "code",
   "execution_count": 11,
   "outputs": [],
   "source": [
    "def grid_search_Q(P, R, discount=0.9, alpha_dec=[.99], alpha_min=[0.001],\n",
    "            epsilon=[1.0], epsilon_decay=[0.99], n_iter=[1000000]):\n",
    "    q_df = pd.DataFrame(columns=[\"Iterations\", \"Alpha Decay\", \"Alpha Min\",\n",
    "                                 \"Epsilon\", \"Epsilon Decay\", \"Reward\",\n",
    "                                 \"Time\", \"Policy\", \"Value Function\",\n",
    "                                 \"Training Rewards\"])\n",
    "\n",
    "    count = 0\n",
    "    for i in n_iter:\n",
    "        for eps in epsilon:\n",
    "            for eps_dec in epsilon_decay:\n",
    "                for a_dec in alpha_dec:\n",
    "                    for a_min in alpha_min:\n",
    "                        q = QLearning(P, R, discount, alpha_decay=a_dec,\n",
    "                                      alpha_min=a_min, epsilon=eps,\n",
    "                                      epsilon_decay=eps_dec, n_iter=i)\n",
    "                        q.run()\n",
    "                        reward = test_policy(P, R, q.policy)\n",
    "                        count += 1\n",
    "                        print(\"{}: {}\".format(count, reward))\n",
    "                        st = q.run_stats\n",
    "                        rews = [s['Reward'] for s in st]\n",
    "                        info = [i, a_dec, a_min, eps, eps_dec, reward,\n",
    "                                q.time, q.policy, q.V, rews]\n",
    "\n",
    "                        df_length = len(q_df)\n",
    "                        q_df.loc[df_length] = info\n",
    "    return q_df"
   ],
   "metadata": {
    "collapsed": false,
    "pycharm": {
     "name": "#%%\n"
    }
   }
  },
  {
   "cell_type": "code",
   "execution_count": 12,
   "outputs": [
    {
     "name": "stdout",
     "output_type": "stream",
     "text": [
      "1: 1.6399208092729483\n",
      "2: 1.6446780936557064\n",
      "3: 1.6485164002249715\n",
      "4: 1.6212276919345465\n",
      "5: 1.9146440973561087\n",
      "6: 1.9151487664995168\n",
      "7: 1.8814180670123866\n",
      "8: 1.9271553162166386\n",
      "9: 1.8984754114196418\n",
      "10: 1.9391791842969952\n",
      "11: 1.9592610215712216\n",
      "12: 1.939309037973741\n",
      "13: 1.9872245597790028\n",
      "14: 1.960505150296107\n",
      "15: 1.946179073237952\n",
      "16: 1.909701288977713\n"
     ]
    }
   ],
   "source": [
    "epsilons = [0.5, 0.8, 0.9, 0.99]\n",
    "epsilon_decays = [.999]\n",
    "alpha_decs = [0.999]\n",
    "alpha_mins =[0.001]\n",
    "iters = [int(e) for e  in [1e5, 1e6, 1e7, 1e8]]\n",
    "q_df = grid_search_Q(P, R, discount=0.9, alpha_dec=alpha_decs, alpha_min=alpha_mins,\n",
    "            epsilon=epsilons, epsilon_decay=epsilon_decays, n_iter=iters)"
   ],
   "metadata": {
    "collapsed": false,
    "pycharm": {
     "name": "#%%\n"
    }
   }
  },
  {
   "cell_type": "code",
   "execution_count": 15,
   "outputs": [
    {
     "data": {
      "text/plain": "   Iterations  Alpha Decay  Alpha Min  Epsilon  Epsilon Decay    Reward  \\\n0      100000        0.999      0.001     0.50          0.999  1.639921   \n1      100000        0.999      0.001     0.80          0.999  1.644678   \n2      100000        0.999      0.001     0.90          0.999  1.648516   \n3      100000        0.999      0.001     0.99          0.999  1.621228   \n4     1000000        0.999      0.001     0.50          0.999  1.914644   \n5     1000000        0.999      0.001     0.80          0.999  1.915149   \n6     1000000        0.999      0.001     0.90          0.999  1.881418   \n7     1000000        0.999      0.001     0.99          0.999  1.927155   \n8    10000000        0.999      0.001     0.50          0.999  1.898475   \n9    10000000        0.999      0.001     0.80          0.999  1.939179   \n10   10000000        0.999      0.001     0.90          0.999  1.959261   \n11   10000000        0.999      0.001     0.99          0.999  1.939309   \n12  100000000        0.999      0.001     0.50          0.999  1.987225   \n13  100000000        0.999      0.001     0.80          0.999  1.960505   \n14  100000000        0.999      0.001     0.90          0.999  1.946179   \n15  100000000        0.999      0.001     0.99          0.999  1.909701   \n\n           Time                                             Policy  \\\n0      4.935805  (0, 1, 1, 1, 0, 1, 0, 0, 1, 0, 1, 0, 1, 0, 0, ...   \n1      4.999697  (0, 1, 1, 1, 1, 1, 0, 0, 1, 1, 0, 1, 0, 0, 0, ...   \n2      4.927144  (0, 1, 1, 1, 1, 0, 0, 1, 0, 0, 0, 0, 1, 1, 0, ...   \n3      4.920149  (0, 1, 1, 1, 1, 1, 1, 0, 1, 0, 0, 0, 0, 0, 0, ...   \n4     47.281077  (0, 1, 1, 1, 1, 1, 0, 0, 0, 0, 1, 1, 1, 1, 1, ...   \n5     47.027452  (0, 1, 1, 1, 0, 1, 1, 1, 1, 0, 1, 0, 0, 0, 1, ...   \n6     47.885751  (0, 1, 1, 1, 1, 1, 1, 1, 0, 0, 0, 0, 1, 1, 0, ...   \n7     46.152514  (0, 1, 1, 1, 1, 1, 1, 0, 0, 1, 1, 0, 1, 1, 1, ...   \n8    476.423969  (0, 1, 1, 1, 1, 1, 0, 0, 1, 1, 1, 1, 1, 1, 0, ...   \n9    441.349567  (0, 1, 1, 1, 1, 0, 0, 1, 1, 1, 0, 1, 0, 1, 1, ...   \n10   442.670358  (0, 1, 1, 1, 1, 1, 1, 1, 1, 1, 0, 1, 1, 1, 1, ...   \n11   579.415764  (0, 1, 1, 1, 1, 0, 1, 1, 0, 0, 1, 1, 1, 1, 0, ...   \n12  4513.301058  (0, 1, 1, 1, 1, 1, 1, 1, 1, 1, 1, 1, 1, 0, 1, ...   \n13  3862.565670  (0, 1, 1, 1, 1, 1, 1, 0, 1, 0, 1, 1, 0, 1, 1, ...   \n14  3817.292736  (0, 1, 1, 1, 1, 1, 1, 0, 0, 1, 1, 0, 1, 0, 1, ...   \n15  3773.210134  (0, 1, 1, 1, 1, 0, 1, 1, 0, 0, 0, 0, 0, 1, 0, ...   \n\n                                       Value Function  \\\n0   (4.479119717616096, 5.031495423431422, 4.90655...   \n1   (4.469351615216611, 5.023869204066711, 4.88366...   \n2   (4.478107299787259, 5.027798348189291, 4.88787...   \n3   (4.4704411988706365, 5.026609875899918, 4.8336...   \n4   (4.477200800647011, 5.029746308915379, 5.02981...   \n5   (4.46540345700321, 5.0201170832271895, 5.02698...   \n6   (4.47662706513603, 5.0320274616189815, 5.03037...   \n7   (4.470532174291042, 5.026599183884151, 5.02930...   \n8   (4.482904736443411, 5.036442199047051, 5.02893...   \n9   (4.4664022715081, 5.023587380474288, 5.0285880...   \n10  (4.478816638913895, 5.0303285250981435, 5.0262...   \n11  (4.471421865995532, 5.026107678547509, 5.02606...   \n12  (4.481105218981861, 5.031484704688864, 5.02637...   \n13  (4.473540553591987, 5.022150134124634, 5.02577...   \n14  (4.473401672624827, 5.026869509812715, 5.02962...   \n15  (4.482777462785251, 5.034152484592657, 5.03060...   \n\n                                     Training Rewards  \n0   [0.0, 1.0, 0.0, 0.0, 0.0, 1.0, 1.0, 1.0, 1.0, ...  \n1   [0.0, 0.0, 0.0, 0.0, 0.0, 0.0, 1.0, 0.0, 0.0, ...  \n2   [0.0, 0.0, 1.0, 0.0, 1.0, 0.0, 0.0, 0.0, 0.0, ...  \n3   [1.0, 0.0, 0.0, 1.0, 0.0, 1.0, 1.0, 1.0, 0.0, ...  \n4   [0.0, 1.0, 0.0, 0.0, 0.0, 0.0, 100.0, 0.0, 0.0...  \n5   [1.0, 1.0, 1.0, 0.0, 0.0, 0.0, 0.0, 0.0, 0.0, ...  \n6   [1.0, 1.0, 0.0, 0.0, 0.0, 0.0, 100.0, 1.0, 0.0...  \n7   [1.0, 0.0, 1.0, 0.0, 0.0, 0.0, 0.0, 1.0, 0.0, ...  \n8   [0.0, 0.0, 0.0, 0.0, 0.0, 0.0, 0.0, 0.0, 0.0, ...  \n9   [0.0, 0.0, 0.0, 0.0, 1.0, 1.0, 0.0, 0.0, 0.0, ...  \n10  [0.0, 1.0, 0.0, 0.0, 0.0, 0.0, 0.0, 0.0, 0.0, ...  \n11  [0.0, 0.0, 0.0, 0.0, 0.0, 0.0, 0.0, 0.0, 0.0, ...  \n12  [0.0, 0.0, 0.0, 0.0, 1.0, 0.0, 0.0, 0.0, 0.0, ...  \n13  [0.0, 0.0, 0.0, 1.0, 1.0, 0.0, 1.0, 0.0, 0.0, ...  \n14  [0.0, 0.0, 1.0, 1.0, 0.0, 0.0, 0.0, 0.0, 0.0, ...  \n15  [1.0, 0.0, 0.0, 0.0, 0.0, 0.0, 1.0, 0.0, 0.0, ...  ",
      "text/html": "<div>\n<style scoped>\n    .dataframe tbody tr th:only-of-type {\n        vertical-align: middle;\n    }\n\n    .dataframe tbody tr th {\n        vertical-align: top;\n    }\n\n    .dataframe thead th {\n        text-align: right;\n    }\n</style>\n<table border=\"1\" class=\"dataframe\">\n  <thead>\n    <tr style=\"text-align: right;\">\n      <th></th>\n      <th>Iterations</th>\n      <th>Alpha Decay</th>\n      <th>Alpha Min</th>\n      <th>Epsilon</th>\n      <th>Epsilon Decay</th>\n      <th>Reward</th>\n      <th>Time</th>\n      <th>Policy</th>\n      <th>Value Function</th>\n      <th>Training Rewards</th>\n    </tr>\n  </thead>\n  <tbody>\n    <tr>\n      <th>0</th>\n      <td>100000</td>\n      <td>0.999</td>\n      <td>0.001</td>\n      <td>0.50</td>\n      <td>0.999</td>\n      <td>1.639921</td>\n      <td>4.935805</td>\n      <td>(0, 1, 1, 1, 0, 1, 0, 0, 1, 0, 1, 0, 1, 0, 0, ...</td>\n      <td>(4.479119717616096, 5.031495423431422, 4.90655...</td>\n      <td>[0.0, 1.0, 0.0, 0.0, 0.0, 1.0, 1.0, 1.0, 1.0, ...</td>\n    </tr>\n    <tr>\n      <th>1</th>\n      <td>100000</td>\n      <td>0.999</td>\n      <td>0.001</td>\n      <td>0.80</td>\n      <td>0.999</td>\n      <td>1.644678</td>\n      <td>4.999697</td>\n      <td>(0, 1, 1, 1, 1, 1, 0, 0, 1, 1, 0, 1, 0, 0, 0, ...</td>\n      <td>(4.469351615216611, 5.023869204066711, 4.88366...</td>\n      <td>[0.0, 0.0, 0.0, 0.0, 0.0, 0.0, 1.0, 0.0, 0.0, ...</td>\n    </tr>\n    <tr>\n      <th>2</th>\n      <td>100000</td>\n      <td>0.999</td>\n      <td>0.001</td>\n      <td>0.90</td>\n      <td>0.999</td>\n      <td>1.648516</td>\n      <td>4.927144</td>\n      <td>(0, 1, 1, 1, 1, 0, 0, 1, 0, 0, 0, 0, 1, 1, 0, ...</td>\n      <td>(4.478107299787259, 5.027798348189291, 4.88787...</td>\n      <td>[0.0, 0.0, 1.0, 0.0, 1.0, 0.0, 0.0, 0.0, 0.0, ...</td>\n    </tr>\n    <tr>\n      <th>3</th>\n      <td>100000</td>\n      <td>0.999</td>\n      <td>0.001</td>\n      <td>0.99</td>\n      <td>0.999</td>\n      <td>1.621228</td>\n      <td>4.920149</td>\n      <td>(0, 1, 1, 1, 1, 1, 1, 0, 1, 0, 0, 0, 0, 0, 0, ...</td>\n      <td>(4.4704411988706365, 5.026609875899918, 4.8336...</td>\n      <td>[1.0, 0.0, 0.0, 1.0, 0.0, 1.0, 1.0, 1.0, 0.0, ...</td>\n    </tr>\n    <tr>\n      <th>4</th>\n      <td>1000000</td>\n      <td>0.999</td>\n      <td>0.001</td>\n      <td>0.50</td>\n      <td>0.999</td>\n      <td>1.914644</td>\n      <td>47.281077</td>\n      <td>(0, 1, 1, 1, 1, 1, 0, 0, 0, 0, 1, 1, 1, 1, 1, ...</td>\n      <td>(4.477200800647011, 5.029746308915379, 5.02981...</td>\n      <td>[0.0, 1.0, 0.0, 0.0, 0.0, 0.0, 100.0, 0.0, 0.0...</td>\n    </tr>\n    <tr>\n      <th>5</th>\n      <td>1000000</td>\n      <td>0.999</td>\n      <td>0.001</td>\n      <td>0.80</td>\n      <td>0.999</td>\n      <td>1.915149</td>\n      <td>47.027452</td>\n      <td>(0, 1, 1, 1, 0, 1, 1, 1, 1, 0, 1, 0, 0, 0, 1, ...</td>\n      <td>(4.46540345700321, 5.0201170832271895, 5.02698...</td>\n      <td>[1.0, 1.0, 1.0, 0.0, 0.0, 0.0, 0.0, 0.0, 0.0, ...</td>\n    </tr>\n    <tr>\n      <th>6</th>\n      <td>1000000</td>\n      <td>0.999</td>\n      <td>0.001</td>\n      <td>0.90</td>\n      <td>0.999</td>\n      <td>1.881418</td>\n      <td>47.885751</td>\n      <td>(0, 1, 1, 1, 1, 1, 1, 1, 0, 0, 0, 0, 1, 1, 0, ...</td>\n      <td>(4.47662706513603, 5.0320274616189815, 5.03037...</td>\n      <td>[1.0, 1.0, 0.0, 0.0, 0.0, 0.0, 100.0, 1.0, 0.0...</td>\n    </tr>\n    <tr>\n      <th>7</th>\n      <td>1000000</td>\n      <td>0.999</td>\n      <td>0.001</td>\n      <td>0.99</td>\n      <td>0.999</td>\n      <td>1.927155</td>\n      <td>46.152514</td>\n      <td>(0, 1, 1, 1, 1, 1, 1, 0, 0, 1, 1, 0, 1, 1, 1, ...</td>\n      <td>(4.470532174291042, 5.026599183884151, 5.02930...</td>\n      <td>[1.0, 0.0, 1.0, 0.0, 0.0, 0.0, 0.0, 1.0, 0.0, ...</td>\n    </tr>\n    <tr>\n      <th>8</th>\n      <td>10000000</td>\n      <td>0.999</td>\n      <td>0.001</td>\n      <td>0.50</td>\n      <td>0.999</td>\n      <td>1.898475</td>\n      <td>476.423969</td>\n      <td>(0, 1, 1, 1, 1, 1, 0, 0, 1, 1, 1, 1, 1, 1, 0, ...</td>\n      <td>(4.482904736443411, 5.036442199047051, 5.02893...</td>\n      <td>[0.0, 0.0, 0.0, 0.0, 0.0, 0.0, 0.0, 0.0, 0.0, ...</td>\n    </tr>\n    <tr>\n      <th>9</th>\n      <td>10000000</td>\n      <td>0.999</td>\n      <td>0.001</td>\n      <td>0.80</td>\n      <td>0.999</td>\n      <td>1.939179</td>\n      <td>441.349567</td>\n      <td>(0, 1, 1, 1, 1, 0, 0, 1, 1, 1, 0, 1, 0, 1, 1, ...</td>\n      <td>(4.4664022715081, 5.023587380474288, 5.0285880...</td>\n      <td>[0.0, 0.0, 0.0, 0.0, 1.0, 1.0, 0.0, 0.0, 0.0, ...</td>\n    </tr>\n    <tr>\n      <th>10</th>\n      <td>10000000</td>\n      <td>0.999</td>\n      <td>0.001</td>\n      <td>0.90</td>\n      <td>0.999</td>\n      <td>1.959261</td>\n      <td>442.670358</td>\n      <td>(0, 1, 1, 1, 1, 1, 1, 1, 1, 1, 0, 1, 1, 1, 1, ...</td>\n      <td>(4.478816638913895, 5.0303285250981435, 5.0262...</td>\n      <td>[0.0, 1.0, 0.0, 0.0, 0.0, 0.0, 0.0, 0.0, 0.0, ...</td>\n    </tr>\n    <tr>\n      <th>11</th>\n      <td>10000000</td>\n      <td>0.999</td>\n      <td>0.001</td>\n      <td>0.99</td>\n      <td>0.999</td>\n      <td>1.939309</td>\n      <td>579.415764</td>\n      <td>(0, 1, 1, 1, 1, 0, 1, 1, 0, 0, 1, 1, 1, 1, 0, ...</td>\n      <td>(4.471421865995532, 5.026107678547509, 5.02606...</td>\n      <td>[0.0, 0.0, 0.0, 0.0, 0.0, 0.0, 0.0, 0.0, 0.0, ...</td>\n    </tr>\n    <tr>\n      <th>12</th>\n      <td>100000000</td>\n      <td>0.999</td>\n      <td>0.001</td>\n      <td>0.50</td>\n      <td>0.999</td>\n      <td>1.987225</td>\n      <td>4513.301058</td>\n      <td>(0, 1, 1, 1, 1, 1, 1, 1, 1, 1, 1, 1, 1, 0, 1, ...</td>\n      <td>(4.481105218981861, 5.031484704688864, 5.02637...</td>\n      <td>[0.0, 0.0, 0.0, 0.0, 1.0, 0.0, 0.0, 0.0, 0.0, ...</td>\n    </tr>\n    <tr>\n      <th>13</th>\n      <td>100000000</td>\n      <td>0.999</td>\n      <td>0.001</td>\n      <td>0.80</td>\n      <td>0.999</td>\n      <td>1.960505</td>\n      <td>3862.565670</td>\n      <td>(0, 1, 1, 1, 1, 1, 1, 0, 1, 0, 1, 1, 0, 1, 1, ...</td>\n      <td>(4.473540553591987, 5.022150134124634, 5.02577...</td>\n      <td>[0.0, 0.0, 0.0, 1.0, 1.0, 0.0, 1.0, 0.0, 0.0, ...</td>\n    </tr>\n    <tr>\n      <th>14</th>\n      <td>100000000</td>\n      <td>0.999</td>\n      <td>0.001</td>\n      <td>0.90</td>\n      <td>0.999</td>\n      <td>1.946179</td>\n      <td>3817.292736</td>\n      <td>(0, 1, 1, 1, 1, 1, 1, 0, 0, 1, 1, 0, 1, 0, 1, ...</td>\n      <td>(4.473401672624827, 5.026869509812715, 5.02962...</td>\n      <td>[0.0, 0.0, 1.0, 1.0, 0.0, 0.0, 0.0, 0.0, 0.0, ...</td>\n    </tr>\n    <tr>\n      <th>15</th>\n      <td>100000000</td>\n      <td>0.999</td>\n      <td>0.001</td>\n      <td>0.99</td>\n      <td>0.999</td>\n      <td>1.909701</td>\n      <td>3773.210134</td>\n      <td>(0, 1, 1, 1, 1, 0, 1, 1, 0, 0, 0, 0, 0, 1, 0, ...</td>\n      <td>(4.482777462785251, 5.034152484592657, 5.03060...</td>\n      <td>[1.0, 0.0, 0.0, 0.0, 0.0, 0.0, 1.0, 0.0, 0.0, ...</td>\n    </tr>\n  </tbody>\n</table>\n</div>"
     },
     "execution_count": 15,
     "metadata": {},
     "output_type": "execute_result"
    }
   ],
   "source": [
    "q_df\n"
   ],
   "metadata": {
    "collapsed": false,
    "pycharm": {
     "name": "#%%\n"
    }
   }
  },
  {
   "cell_type": "code",
   "execution_count": null,
   "outputs": [],
   "source": [],
   "metadata": {
    "collapsed": false,
    "pycharm": {
     "name": "#%%\n"
    }
   }
  }
 ],
 "metadata": {
  "kernelspec": {
   "display_name": "Python 3",
   "language": "python",
   "name": "python3"
  },
  "language_info": {
   "codemirror_mode": {
    "name": "ipython",
    "version": 2
   },
   "file_extension": ".py",
   "mimetype": "text/x-python",
   "name": "python",
   "nbconvert_exporter": "python",
   "pygments_lexer": "ipython2",
   "version": "2.7.6"
  }
 },
 "nbformat": 4,
 "nbformat_minor": 0
}