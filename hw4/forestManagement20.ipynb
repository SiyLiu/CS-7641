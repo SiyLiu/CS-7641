{
 "cells": [
  {
   "cell_type": "code",
   "execution_count": 36,
   "metadata": {
    "collapsed": true
   },
   "outputs": [],
   "source": [
    "from hiive.mdptoolbox.mdp import ValueIteration, PolicyIteration, QLearning\n",
    "from hiive.mdptoolbox.example import forest\n",
    "from hiive.mdptoolbox import mdp\n",
    "from hiive.mdptoolbox import util\n",
    "import gym\n",
    "import numpy as np\n",
    "import sys\n",
    "import os\n",
    "from numpy.random import choice\n",
    "import pandas as pd\n",
    "import seaborn as sns\n",
    "np.random.seed(44)"
   ]
  },
  {
   "cell_type": "code",
   "execution_count": 7,
   "outputs": [],
   "source": [
    "def test_policy(P, R, policy, test_count=1000, gamma=0.9):\n",
    "    num_state = P.shape[-1]\n",
    "    total_episode = num_state * test_count\n",
    "    # start in each state\n",
    "    total_reward = 0\n",
    "    for state in range(num_state):\n",
    "        state_reward = 0\n",
    "        for state_episode in range(test_count):\n",
    "            episode_reward = 0\n",
    "            disc_rate = 1\n",
    "            while True:\n",
    "                # take step\n",
    "                action = policy[state]\n",
    "                # get next step using P\n",
    "                probs = P[action][state]\n",
    "                candidates = list(range(len(P[action][state])))\n",
    "                next_state =  choice(candidates, 1, p=probs)[0]\n",
    "                # get the reward\n",
    "                reward = R[state][action] * disc_rate\n",
    "                episode_reward += reward\n",
    "                # when go back to 0 ended\n",
    "                disc_rate *= gamma\n",
    "                if next_state == 0:\n",
    "                    break\n",
    "            state_reward += episode_reward\n",
    "        total_reward += state_reward\n",
    "    return total_reward / total_episode"
   ],
   "metadata": {
    "collapsed": false,
    "pycharm": {
     "name": "#%%\n"
    }
   }
  },
  {
   "cell_type": "code",
   "execution_count": 8,
   "outputs": [],
   "source": [
    "def grid_search_VI(P, R, discount=0.9, epsilon=[1e-9]):\n",
    "    vi_df = pd.DataFrame(columns=[\"Epsilon\", \"Policy\", \"Iteration\",\n",
    "                                  \"Time\", \"Reward\", \"Value Function\"])\n",
    "    for eps in epsilon:\n",
    "        vi = ValueIteration(P, R, gamma=discount, epsilon=eps, max_iter=int(1e15))\n",
    "        vi.run()\n",
    "        reward = test_policy(P, R, vi.policy)\n",
    "        info = [float(eps), vi.policy, vi.iter, vi.time, reward, vi.V]\n",
    "        df_length = len(vi_df)\n",
    "        vi_df.loc[df_length] = info\n",
    "    return vi_df\n"
   ],
   "metadata": {
    "collapsed": false,
    "pycharm": {
     "name": "#%%\n"
    }
   }
  },
  {
   "cell_type": "markdown",
   "source": [
    "Value Iteration"
   ],
   "metadata": {
    "collapsed": false,
    "pycharm": {
     "name": "#%% md\n"
    }
   },
   "outputs": [
    {
     "ename": "SyntaxError",
     "evalue": "invalid syntax (<ipython-input-67-bcac4f82ee9e>, line 1)",
     "output_type": "error",
     "traceback": [
      "\u001B[0;36m  File \u001B[0;32m\"<ipython-input-67-bcac4f82ee9e>\"\u001B[0;36m, line \u001B[0;32m1\u001B[0m\n\u001B[0;31m    Value Iteration\u001B[0m\n\u001B[0m                  ^\u001B[0m\n\u001B[0;31mSyntaxError\u001B[0m\u001B[0;31m:\u001B[0m invalid syntax\n"
     ]
    }
   ],
   "execution_count": 67
  },
  {
   "cell_type": "code",
   "execution_count": 190,
   "outputs": [],
   "source": [
    "P,R = forest(20, r1 = 10, r2 = 4, p = 0.1)"
   ],
   "metadata": {
    "collapsed": false,
    "pycharm": {
     "name": "#%%\n"
    }
   }
  },
  {
   "cell_type": "code",
   "execution_count": null,
   "outputs": [],
   "source": [
    "fm_20_vi = grid_search_VI(P, R, discount = 0.9, epsilon = [1e-3, 1e-4, 1e-5, 1e-6, 1e-7, 1e-8, 1e-9])"
   ],
   "metadata": {
    "collapsed": false,
    "pycharm": {
     "name": "#%%\n"
    }
   }
  },
  {
   "cell_type": "code",
   "execution_count": 74,
   "outputs": [
    {
     "data": {
      "text/plain": "        Epsilon                                             Policy Iteration  \\\n0  1.000000e-03  (0, 1, 1, 1, 1, 1, 0, 0, 0, 0, 0, 0, 0, 0, 0, ...        55   \n1  1.000000e-04  (0, 1, 1, 1, 1, 1, 0, 0, 0, 0, 0, 0, 0, 0, 0, ...        66   \n2  1.000000e-05  (0, 1, 1, 1, 1, 1, 0, 0, 0, 0, 0, 0, 0, 0, 0, ...        76   \n3  1.000000e-06  (0, 1, 1, 1, 1, 1, 0, 0, 0, 0, 0, 0, 0, 0, 0, ...        87   \n4  1.000000e-07  (0, 1, 1, 1, 1, 1, 0, 0, 0, 0, 0, 0, 0, 0, 0, ...        98   \n5  1.000000e-08  (0, 1, 1, 1, 1, 1, 0, 0, 0, 0, 0, 0, 0, 0, 0, ...       109   \n6  1.000000e-09  (0, 1, 1, 1, 1, 1, 0, 0, 0, 0, 0, 0, 0, 0, 0, ...       120   \n\n       Time    Reward                                     Value Function  \n0  0.005896  2.843259  (4.460720290173723, 5.013211594807497, 5.01321...  \n1  0.003501  2.842526  (4.4706146525683454, 5.023100336527209, 5.0231...  \n2  0.003580  2.920512  (4.473560831234312, 5.026046957818786, 5.02604...  \n3  0.003875  2.884589  (4.474643139169861, 5.027129333047953, 5.02712...  \n4  0.004393  2.885044  (4.47498279201032, 5.027468979261533, 5.027468...  \n5  0.005316  2.913634  (4.475089377376456, 5.027575565280265, 5.02757...  \n6  0.006105  2.866948  (4.475122825121185, 5.027609012960728, 5.02760...  ",
      "text/html": "<div>\n<style scoped>\n    .dataframe tbody tr th:only-of-type {\n        vertical-align: middle;\n    }\n\n    .dataframe tbody tr th {\n        vertical-align: top;\n    }\n\n    .dataframe thead th {\n        text-align: right;\n    }\n</style>\n<table border=\"1\" class=\"dataframe\">\n  <thead>\n    <tr style=\"text-align: right;\">\n      <th></th>\n      <th>Epsilon</th>\n      <th>Policy</th>\n      <th>Iteration</th>\n      <th>Time</th>\n      <th>Reward</th>\n      <th>Value Function</th>\n    </tr>\n  </thead>\n  <tbody>\n    <tr>\n      <th>0</th>\n      <td>1.000000e-03</td>\n      <td>(0, 1, 1, 1, 1, 1, 0, 0, 0, 0, 0, 0, 0, 0, 0, ...</td>\n      <td>55</td>\n      <td>0.005896</td>\n      <td>2.843259</td>\n      <td>(4.460720290173723, 5.013211594807497, 5.01321...</td>\n    </tr>\n    <tr>\n      <th>1</th>\n      <td>1.000000e-04</td>\n      <td>(0, 1, 1, 1, 1, 1, 0, 0, 0, 0, 0, 0, 0, 0, 0, ...</td>\n      <td>66</td>\n      <td>0.003501</td>\n      <td>2.842526</td>\n      <td>(4.4706146525683454, 5.023100336527209, 5.0231...</td>\n    </tr>\n    <tr>\n      <th>2</th>\n      <td>1.000000e-05</td>\n      <td>(0, 1, 1, 1, 1, 1, 0, 0, 0, 0, 0, 0, 0, 0, 0, ...</td>\n      <td>76</td>\n      <td>0.003580</td>\n      <td>2.920512</td>\n      <td>(4.473560831234312, 5.026046957818786, 5.02604...</td>\n    </tr>\n    <tr>\n      <th>3</th>\n      <td>1.000000e-06</td>\n      <td>(0, 1, 1, 1, 1, 1, 0, 0, 0, 0, 0, 0, 0, 0, 0, ...</td>\n      <td>87</td>\n      <td>0.003875</td>\n      <td>2.884589</td>\n      <td>(4.474643139169861, 5.027129333047953, 5.02712...</td>\n    </tr>\n    <tr>\n      <th>4</th>\n      <td>1.000000e-07</td>\n      <td>(0, 1, 1, 1, 1, 1, 0, 0, 0, 0, 0, 0, 0, 0, 0, ...</td>\n      <td>98</td>\n      <td>0.004393</td>\n      <td>2.885044</td>\n      <td>(4.47498279201032, 5.027468979261533, 5.027468...</td>\n    </tr>\n    <tr>\n      <th>5</th>\n      <td>1.000000e-08</td>\n      <td>(0, 1, 1, 1, 1, 1, 0, 0, 0, 0, 0, 0, 0, 0, 0, ...</td>\n      <td>109</td>\n      <td>0.005316</td>\n      <td>2.913634</td>\n      <td>(4.475089377376456, 5.027575565280265, 5.02757...</td>\n    </tr>\n    <tr>\n      <th>6</th>\n      <td>1.000000e-09</td>\n      <td>(0, 1, 1, 1, 1, 1, 0, 0, 0, 0, 0, 0, 0, 0, 0, ...</td>\n      <td>120</td>\n      <td>0.006105</td>\n      <td>2.866948</td>\n      <td>(4.475122825121185, 5.027609012960728, 5.02760...</td>\n    </tr>\n  </tbody>\n</table>\n</div>"
     },
     "execution_count": 74,
     "metadata": {},
     "output_type": "execute_result"
    }
   ],
   "source": [
    "fm_20_vi"
   ],
   "metadata": {
    "collapsed": false,
    "pycharm": {
     "name": "#%%\n"
    }
   }
  },
  {
   "cell_type": "code",
   "execution_count": 191,
   "outputs": [
    {
     "data": {
      "text/plain": "1"
     },
     "execution_count": 191,
     "metadata": {},
     "output_type": "execute_result"
    }
   ],
   "source": [
    "fm_20_vi.Policy.nunique()"
   ],
   "metadata": {
    "collapsed": false,
    "pycharm": {
     "name": "#%%\n"
    }
   }
  },
  {
   "cell_type": "code",
   "execution_count": 192,
   "outputs": [
    {
     "data": {
      "text/plain": "array([(0, 1, 1, 1, 1, 1, 0, 0, 0, 0, 0, 0, 0, 0, 0, 0, 0, 0, 0, 0)],\n      dtype=object)"
     },
     "execution_count": 192,
     "metadata": {},
     "output_type": "execute_result"
    }
   ],
   "source": [
    "fm_20_vi.Policy.unique()"
   ],
   "metadata": {
    "collapsed": false,
    "pycharm": {
     "name": "#%%\n"
    }
   }
  },
  {
   "cell_type": "markdown",
   "source": [
    "Policy Iteration"
   ],
   "metadata": {
    "collapsed": false,
    "pycharm": {
     "name": "#%% md\n"
    }
   }
  },
  {
   "cell_type": "code",
   "execution_count": 193,
   "outputs": [
    {
     "data": {
      "text/plain": "(14, 0.0638279914855957, 2.948054429531793)"
     },
     "execution_count": 193,
     "metadata": {},
     "output_type": "execute_result"
    }
   ],
   "source": [
    "pi = PolicyIteration(P, R, gamma=0.9, max_iter=1e6)\n",
    "pi.run()\n",
    "pi_pol = pi.policy\n",
    "pi_reward = test_policy(P, R, pi_pol)\n",
    "pi_iter = pi.iter\n",
    "pi_time = pi.time\n",
    "pi_iter, pi_time, pi_reward"
   ],
   "metadata": {
    "collapsed": false,
    "pycharm": {
     "name": "#%%\n"
    }
   }
  },
  {
   "cell_type": "code",
   "execution_count": 204,
   "outputs": [
    {
     "data": {
      "text/plain": "[0, 1, 1, 1, 1, 1, 0, 0, 0, 0, 0, 0, 0, 0, 0, 0, 0, 0, 0, 0]"
     },
     "execution_count": 204,
     "metadata": {},
     "output_type": "execute_result"
    }
   ],
   "source": [
    "list(pi_pol)"
   ],
   "metadata": {
    "collapsed": false,
    "pycharm": {
     "name": "#%%\n"
    }
   }
  },
  {
   "cell_type": "code",
   "execution_count": 206,
   "outputs": [
    {
     "data": {
      "text/plain": "[(0, 1, 1, 1, 1, 1, 0, 0, 0, 0, 0, 0, 0, 0, 0, 0, 0, 0, 0, 0)]"
     },
     "execution_count": 206,
     "metadata": {},
     "output_type": "execute_result"
    }
   ],
   "source": [
    "[i for i in fm_20_vi.Policy.unique()]"
   ],
   "metadata": {
    "collapsed": false,
    "pycharm": {
     "name": "#%%\n"
    }
   }
  },
  {
   "cell_type": "markdown",
   "source": [
    "Q-Learning"
   ],
   "metadata": {
    "collapsed": false,
    "pycharm": {
     "name": "#%% md\n"
    }
   },
   "outputs": [
    {
     "ename": "NameError",
     "evalue": "name 'Q' is not defined",
     "output_type": "error",
     "traceback": [
      "\u001B[0;31m---------------------------------------------------------------------------\u001B[0m",
      "\u001B[0;31mNameError\u001B[0m                                 Traceback (most recent call last)",
      "\u001B[0;32m<ipython-input-75-a771fe09d0f2>\u001B[0m in \u001B[0;36m<module>\u001B[0;34m\u001B[0m\n\u001B[0;32m----> 1\u001B[0;31m \u001B[0mQ\u001B[0m\u001B[0;34m-\u001B[0m\u001B[0mLearning\u001B[0m\u001B[0;34m\u001B[0m\u001B[0;34m\u001B[0m\u001B[0m\n\u001B[0m",
      "\u001B[0;31mNameError\u001B[0m: name 'Q' is not defined"
     ]
    }
   ],
   "execution_count": 75
  },
  {
   "cell_type": "code",
   "execution_count": 79,
   "outputs": [],
   "source": [
    "def grid_search_Q(P, R, discount=0.9, alpha_dec=[.99], alpha_min=[0.001],\n",
    "            epsilon=[1.0], epsilon_decay=[0.99], n_iter=[1000000]):\n",
    "    q_df = pd.DataFrame(columns=[\"Iterations\", \"Alpha Decay\", \"Alpha Min\",\n",
    "                                 \"Epsilon\", \"Epsilon Decay\", \"Reward\",\n",
    "                                 \"Time\", \"Policy\", \"Value Function\",\n",
    "                                 \"Training Rewards\",\"Training Errors\"])\n",
    "\n",
    "    count = 0\n",
    "    for i in n_iter:\n",
    "        for eps in epsilon:\n",
    "            for eps_dec in epsilon_decay:\n",
    "                for a_dec in alpha_dec:\n",
    "                    for a_min in alpha_min:\n",
    "                        q = QLearning(P, R, discount, alpha_decay=a_dec,\n",
    "                                      alpha_min=a_min, epsilon=eps,\n",
    "                                      epsilon_decay=eps_dec, n_iter=i)\n",
    "                        q.run()\n",
    "                        reward = test_policy(P, R, q.policy)\n",
    "                        count += 1\n",
    "                        print(\"{}: {}\".format(count, reward))\n",
    "                        st = q.run_stats\n",
    "                        rews = [s['Reward'] for s in st]\n",
    "                        error = [s['Error'] for s in st]\n",
    "                        info = [i, a_dec, a_min, eps, eps_dec, reward,\n",
    "                                q.time, q.policy, q.V, rews, error]\n",
    "\n",
    "                        df_length = len\\\n",
    "                            (q_df)\n",
    "                        q_df.loc[df_length] = info\n",
    "    return q_df"
   ],
   "metadata": {
    "collapsed": false,
    "pycharm": {
     "name": "#%%\n"
    }
   }
  },
  {
   "cell_type": "code",
   "execution_count": 80,
   "outputs": [
    {
     "name": "stdout",
     "output_type": "stream",
     "text": [
      "1: 3.328811073128214\n",
      "2: 3.093887911696705\n",
      "3: 3.122111119591973\n",
      "4: 3.2781773512201275\n",
      "5: 3.1733645875441137\n",
      "6: 3.34976253076596\n",
      "7: 3.208006197590274\n",
      "8: 3.2962114704142356\n",
      "9: 3.158835124792923\n",
      "10: 3.298125995132963\n",
      "11: 3.183542218943943\n",
      "12: 3.206992649140325\n",
      "13: 2.9318491170394436\n",
      "14: 2.876297938751445\n",
      "15: 2.9239452232667005\n",
      "16: 2.928126903203329\n"
     ]
    }
   ],
   "source": [
    "epsilons = [0.5, 0.8, 0.9, 0.99]\n",
    "epsilon_decays = [.999]\n",
    "alpha_decs = [0.999]\n",
    "alpha_mins =[0.001]\n",
    "iters = [int(e) for e  in [1e5, 1e6, 1e7, 1e8]]\n",
    "q_df = grid_search_Q(P, R, discount=0.9, alpha_dec=alpha_decs, alpha_min=alpha_mins,\n",
    "            epsilon=epsilons, epsilon_decay=epsilon_decays, n_iter=iters)"
   ],
   "metadata": {
    "collapsed": false,
    "pycharm": {
     "name": "#%%\n"
    }
   }
  },
  {
   "cell_type": "code",
   "execution_count": 140,
   "outputs": [
    {
     "data": {
      "text/plain": "0.0     5399\n1.0     4526\n10.0      70\n4.0        5\ndtype: int64"
     },
     "execution_count": 140,
     "metadata": {},
     "output_type": "execute_result"
    }
   ],
   "source": [],
   "metadata": {
    "collapsed": false,
    "pycharm": {
     "name": "#%%\n"
    }
   }
  },
  {
   "cell_type": "code",
   "execution_count": 82,
   "outputs": [],
   "source": [
    "def running_mean(x, N):\n",
    "    cumsum = np.cumsum(np.insert(x, 0, 0))\n",
    "    return (cumsum[N:] - cumsum[:-N]) / float(N)"
   ],
   "metadata": {
    "collapsed": false,
    "pycharm": {
     "name": "#%%\n"
    }
   }
  },
  {
   "cell_type": "code",
   "execution_count": 212,
   "outputs": [
    {
     "data": {
      "text/plain": "(4.470695063983851,\n 5.026038757264145,\n 3.958253374790828,\n 4.837389394921782,\n 0.11310113153958719,\n 0.8642783300371065,\n 1.201743939141563,\n 0.18230613994140643,\n 0.530159185135527,\n 0.05370833991776588,\n 0.4501664242116971,\n 0.26308271941216255,\n 0.35535420196685047,\n 0.9615404641997741,\n 0.5284852811194357,\n 0.03554313387849705,\n 0.39050855011273655,\n 0.2538811218077455,\n 0.43790070365226513,\n 9.304268150025019)"
     },
     "execution_count": 212,
     "metadata": {},
     "output_type": "execute_result"
    }
   ],
   "source": [
    "q_df['Value Function'][0]"
   ],
   "metadata": {
    "collapsed": false,
    "pycharm": {
     "name": "#%%\n"
    }
   }
  },
  {
   "cell_type": "code",
   "execution_count": null,
   "outputs": [],
   "source": [],
   "metadata": {
    "collapsed": false,
    "pycharm": {
     "name": "#%%\n"
    }
   }
  }
 ],
 "metadata": {
  "kernelspec": {
   "display_name": "Python 3",
   "language": "python",
   "name": "python3"
  },
  "language_info": {
   "codemirror_mode": {
    "name": "ipython",
    "version": 2
   },
   "file_extension": ".py",
   "mimetype": "text/x-python",
   "name": "python",
   "nbconvert_exporter": "python",
   "pygments_lexer": "ipython2",
   "version": "2.7.6"
  }
 },
 "nbformat": 4,
 "nbformat_minor": 0
}